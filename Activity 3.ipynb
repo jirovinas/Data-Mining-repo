{
 "cells": [
  {
   "cell_type": "markdown",
   "id": "32e34627-5bfb-42b9-b66a-1f09218892a2",
   "metadata": {},
   "source": [
    "<h1>Project: United Kingdom Road Accident Data Analysis</h1>\n",
    "<h2>Inclusive Years: 2019 - 2022</h2>\n",
    "<h3>Analyst: Jiro Miko S. Viñas</h3>"
   ]
  },
  {
   "cell_type": "code",
   "execution_count": 1,
   "id": "d1cac5a5-4492-4fd5-b3ae-a38cb0cbaeb5",
   "metadata": {},
   "outputs": [],
   "source": [
    "import numpy as np\n",
    "import pandas as pd\n",
    "import matplotlib.pyplot as plt\n",
    "import seaborn as sns\n",
    "import warnings\n",
    "warnings.filterwarnings('ignore')"
   ]
  },
  {
   "cell_type": "code",
   "execution_count": 2,
   "id": "3fe338b7-13cc-4928-b85b-3f98b6189035",
   "metadata": {},
   "outputs": [],
   "source": [
    "accident = pd.read_csv('dataset\\\\accident_data.csv')"
   ]
  },
  {
   "cell_type": "code",
   "execution_count": 3,
   "id": "22a45e85-d442-471a-b9a8-2e759426a9df",
   "metadata": {},
   "outputs": [
    {
     "name": "stdout",
     "output_type": "stream",
     "text": [
      "<class 'pandas.core.frame.DataFrame'>\n",
      "RangeIndex: 660679 entries, 0 to 660678\n",
      "Data columns (total 14 columns):\n",
      " #   Column                   Non-Null Count   Dtype  \n",
      "---  ------                   --------------   -----  \n",
      " 0   Index                    660679 non-null  object \n",
      " 1   Accident_Severity        660679 non-null  object \n",
      " 2   Accident Date            660679 non-null  object \n",
      " 3   Latitude                 660654 non-null  float64\n",
      " 4   Light_Conditions         660679 non-null  object \n",
      " 5   District Area            660679 non-null  object \n",
      " 6   Longitude                660653 non-null  float64\n",
      " 7   Number_of_Casualties     660679 non-null  int64  \n",
      " 8   Number_of_Vehicles       660679 non-null  int64  \n",
      " 9   Road_Surface_Conditions  659953 non-null  object \n",
      " 10  Road_Type                656159 non-null  object \n",
      " 11  Urban_or_Rural_Area      660664 non-null  object \n",
      " 12  Weather_Conditions       646551 non-null  object \n",
      " 13  Vehicle_Type             660679 non-null  object \n",
      "dtypes: float64(2), int64(2), object(10)\n",
      "memory usage: 70.6+ MB\n"
     ]
    }
   ],
   "source": [
    "accident.info()"
   ]
  },
  {
   "cell_type": "code",
   "execution_count": 4,
   "id": "8ac14e6a-6ddb-4de3-ba6a-9e59e3fa15e0",
   "metadata": {},
   "outputs": [
    {
     "data": {
      "text/plain": [
       "Index                       object\n",
       "Accident_Severity           object\n",
       "Accident Date               object\n",
       "Latitude                   float64\n",
       "Light_Conditions            object\n",
       "District Area               object\n",
       "Longitude                  float64\n",
       "Number_of_Casualties         int64\n",
       "Number_of_Vehicles           int64\n",
       "Road_Surface_Conditions     object\n",
       "Road_Type                   object\n",
       "Urban_or_Rural_Area         object\n",
       "Weather_Conditions          object\n",
       "Vehicle_Type                object\n",
       "dtype: object"
      ]
     },
     "execution_count": 4,
     "metadata": {},
     "output_type": "execute_result"
    }
   ],
   "source": [
    "accident.dtypes"
   ]
  },
  {
   "cell_type": "code",
   "execution_count": 5,
   "id": "73adbef1-3392-464a-b93e-b24e131a726c",
   "metadata": {},
   "outputs": [
    {
     "data": {
      "text/html": [
       "<div>\n",
       "<style scoped>\n",
       "    .dataframe tbody tr th:only-of-type {\n",
       "        vertical-align: middle;\n",
       "    }\n",
       "\n",
       "    .dataframe tbody tr th {\n",
       "        vertical-align: top;\n",
       "    }\n",
       "\n",
       "    .dataframe thead th {\n",
       "        text-align: right;\n",
       "    }\n",
       "</style>\n",
       "<table border=\"1\" class=\"dataframe\">\n",
       "  <thead>\n",
       "    <tr style=\"text-align: right;\">\n",
       "      <th></th>\n",
       "      <th>Latitude</th>\n",
       "      <th>Longitude</th>\n",
       "      <th>Number_of_Casualties</th>\n",
       "      <th>Number_of_Vehicles</th>\n",
       "    </tr>\n",
       "  </thead>\n",
       "  <tbody>\n",
       "    <tr>\n",
       "      <th>count</th>\n",
       "      <td>660654.000000</td>\n",
       "      <td>660653.000000</td>\n",
       "      <td>660679.000000</td>\n",
       "      <td>660679.000000</td>\n",
       "    </tr>\n",
       "    <tr>\n",
       "      <th>mean</th>\n",
       "      <td>52.553866</td>\n",
       "      <td>-1.431210</td>\n",
       "      <td>1.357040</td>\n",
       "      <td>1.831255</td>\n",
       "    </tr>\n",
       "    <tr>\n",
       "      <th>std</th>\n",
       "      <td>1.406922</td>\n",
       "      <td>1.383330</td>\n",
       "      <td>0.824847</td>\n",
       "      <td>0.715269</td>\n",
       "    </tr>\n",
       "    <tr>\n",
       "      <th>min</th>\n",
       "      <td>49.914430</td>\n",
       "      <td>-7.516225</td>\n",
       "      <td>1.000000</td>\n",
       "      <td>1.000000</td>\n",
       "    </tr>\n",
       "    <tr>\n",
       "      <th>25%</th>\n",
       "      <td>51.490690</td>\n",
       "      <td>-2.332291</td>\n",
       "      <td>1.000000</td>\n",
       "      <td>1.000000</td>\n",
       "    </tr>\n",
       "    <tr>\n",
       "      <th>50%</th>\n",
       "      <td>52.315641</td>\n",
       "      <td>-1.411667</td>\n",
       "      <td>1.000000</td>\n",
       "      <td>2.000000</td>\n",
       "    </tr>\n",
       "    <tr>\n",
       "      <th>75%</th>\n",
       "      <td>53.453452</td>\n",
       "      <td>-0.232869</td>\n",
       "      <td>1.000000</td>\n",
       "      <td>2.000000</td>\n",
       "    </tr>\n",
       "    <tr>\n",
       "      <th>max</th>\n",
       "      <td>60.757544</td>\n",
       "      <td>1.762010</td>\n",
       "      <td>68.000000</td>\n",
       "      <td>32.000000</td>\n",
       "    </tr>\n",
       "  </tbody>\n",
       "</table>\n",
       "</div>"
      ],
      "text/plain": [
       "            Latitude      Longitude  Number_of_Casualties  Number_of_Vehicles\n",
       "count  660654.000000  660653.000000         660679.000000       660679.000000\n",
       "mean       52.553866      -1.431210              1.357040            1.831255\n",
       "std         1.406922       1.383330              0.824847            0.715269\n",
       "min        49.914430      -7.516225              1.000000            1.000000\n",
       "25%        51.490690      -2.332291              1.000000            1.000000\n",
       "50%        52.315641      -1.411667              1.000000            2.000000\n",
       "75%        53.453452      -0.232869              1.000000            2.000000\n",
       "max        60.757544       1.762010             68.000000           32.000000"
      ]
     },
     "execution_count": 5,
     "metadata": {},
     "output_type": "execute_result"
    }
   ],
   "source": [
    "accident.describe()"
   ]
  },
  {
   "cell_type": "code",
   "execution_count": 6,
   "id": "bf87f051-39de-44ad-a998-840a733ca5dd",
   "metadata": {},
   "outputs": [],
   "source": [
    "accident['Accident_Severity'] = accident['Accident_Severity'].astype('category')"
   ]
  },
  {
   "cell_type": "code",
   "execution_count": 7,
   "id": "55886366-4b6f-4827-b955-dbadd7825db2",
   "metadata": {},
   "outputs": [
    {
     "data": {
      "text/plain": [
       "Accident_Severity\n",
       "Slight     563801\n",
       "Serious     88217\n",
       "Fatal        8661\n",
       "Name: count, dtype: int64"
      ]
     },
     "execution_count": 7,
     "metadata": {},
     "output_type": "execute_result"
    }
   ],
   "source": [
    "accident['Accident_Severity'].value_counts()"
   ]
  },
  {
   "cell_type": "code",
   "execution_count": 8,
   "id": "b91c36f1-bbbe-4391-a384-f544b27ee19f",
   "metadata": {},
   "outputs": [
    {
     "data": {
      "text/plain": [
       "Index                        object\n",
       "Accident_Severity          category\n",
       "Accident Date                object\n",
       "Latitude                    float64\n",
       "Light_Conditions             object\n",
       "District Area                object\n",
       "Longitude                   float64\n",
       "Number_of_Casualties          int64\n",
       "Number_of_Vehicles            int64\n",
       "Road_Surface_Conditions      object\n",
       "Road_Type                    object\n",
       "Urban_or_Rural_Area          object\n",
       "Weather_Conditions           object\n",
       "Vehicle_Type                 object\n",
       "dtype: object"
      ]
     },
     "execution_count": 8,
     "metadata": {},
     "output_type": "execute_result"
    }
   ],
   "source": [
    "accident.dtypes"
   ]
  },
  {
   "cell_type": "markdown",
   "id": "4d57fd22-8de4-4159-bc51-5511e734c546",
   "metadata": {},
   "source": [
    "<h1>Coverting Object to DateTime Data Type</h1>"
   ]
  },
  {
   "cell_type": "code",
   "execution_count": 9,
   "id": "97b2edcf-8482-4b38-8cd2-73c8221c2dcd",
   "metadata": {},
   "outputs": [],
   "source": [
    "accident['Accident Date'] = pd.to_datetime(accident['Accident Date'], dayfirst = True, errors = 'coerce')"
   ]
  },
  {
   "cell_type": "code",
   "execution_count": 10,
   "id": "d1ed59e3-b5db-43d5-af3f-0ce139fff069",
   "metadata": {},
   "outputs": [
    {
     "data": {
      "text/plain": [
       "Index                              object\n",
       "Accident_Severity                category\n",
       "Accident Date              datetime64[ns]\n",
       "Latitude                          float64\n",
       "Light_Conditions                   object\n",
       "District Area                      object\n",
       "Longitude                         float64\n",
       "Number_of_Casualties                int64\n",
       "Number_of_Vehicles                  int64\n",
       "Road_Surface_Conditions            object\n",
       "Road_Type                          object\n",
       "Urban_or_Rural_Area                object\n",
       "Weather_Conditions                 object\n",
       "Vehicle_Type                       object\n",
       "dtype: object"
      ]
     },
     "execution_count": 10,
     "metadata": {},
     "output_type": "execute_result"
    }
   ],
   "source": [
    "accident.dtypes"
   ]
  },
  {
   "cell_type": "markdown",
   "id": "c7577281-b93c-4bc8-9382-121733e39ece",
   "metadata": {},
   "source": [
    "<h1>Filling Up Null Values</h1>"
   ]
  },
  {
   "cell_type": "code",
   "execution_count": 11,
   "id": "a38ae5bb-3010-47dd-8e98-b4d1d6957955",
   "metadata": {},
   "outputs": [
    {
     "data": {
      "text/plain": [
       "Index                          0\n",
       "Accident_Severity              0\n",
       "Accident Date                  0\n",
       "Latitude                      25\n",
       "Light_Conditions               0\n",
       "District Area                  0\n",
       "Longitude                     26\n",
       "Number_of_Casualties           0\n",
       "Number_of_Vehicles             0\n",
       "Road_Surface_Conditions      726\n",
       "Road_Type                   4520\n",
       "Urban_or_Rural_Area           15\n",
       "Weather_Conditions         14128\n",
       "Vehicle_Type                   0\n",
       "dtype: int64"
      ]
     },
     "execution_count": 11,
     "metadata": {},
     "output_type": "execute_result"
    }
   ],
   "source": [
    "accident.isnull().sum()"
   ]
  },
  {
   "cell_type": "code",
   "execution_count": 12,
   "id": "14d1c346-c4c6-422e-82fa-84de7943e0ed",
   "metadata": {},
   "outputs": [],
   "source": [
    "accident['Latitude'] = accident['Latitude'].fillna(accident['Latitude'].mode()[0])\n",
    "accident['Longitude'] = accident['Longitude'].fillna(accident['Longitude'].mode()[0])\n",
    "accident['Road_Surface_Conditions'] = accident['Road_Surface_Conditions'].fillna('unknown surface condition')\n",
    "accident['Road_Type'] = accident['Road_Type'].fillna('unknown road type')\n",
    "accident['Urban_or_Rural_Area'] = accident['Urban_or_Rural_Area'].fillna(accident['Urban_or_Rural_Area'].mode()[0])\n",
    "accident['Weather_Conditions'] = accident['Weather_Conditions'].fillna('unknown weather condition')"
   ]
  },
  {
   "cell_type": "code",
   "execution_count": 13,
   "id": "e5c8453c-9ea8-4c57-824c-7b46845a234c",
   "metadata": {},
   "outputs": [
    {
     "data": {
      "text/plain": [
       "Index                      0\n",
       "Accident_Severity          0\n",
       "Accident Date              0\n",
       "Latitude                   0\n",
       "Light_Conditions           0\n",
       "District Area              0\n",
       "Longitude                  0\n",
       "Number_of_Casualties       0\n",
       "Number_of_Vehicles         0\n",
       "Road_Surface_Conditions    0\n",
       "Road_Type                  0\n",
       "Urban_or_Rural_Area        0\n",
       "Weather_Conditions         0\n",
       "Vehicle_Type               0\n",
       "dtype: int64"
      ]
     },
     "execution_count": 13,
     "metadata": {},
     "output_type": "execute_result"
    }
   ],
   "source": [
    "accident.isnull().sum()"
   ]
  },
  {
   "cell_type": "code",
   "execution_count": 14,
   "id": "9f98f094-fc74-4e8d-be20-930f3581077c",
   "metadata": {},
   "outputs": [],
   "source": [
    "accident['Accident_Severity'] = accident['Accident_Severity'].astype('category')\n",
    "accident['Latitude'] = accident['Latitude'].astype('category')\n",
    "accident['Light_Conditions'] = accident['Light_Conditions'].astype('category')\n",
    "accident['District Area'] = accident['District Area'].astype('category')\n",
    "accident['Longitude'] = accident['Longitude'].astype('category')\n",
    "accident['Road_Surface_Conditions'] = accident['Road_Surface_Conditions'].astype('category')\n",
    "accident['Road_Type'] = accident['Road_Type'].astype('category')\n",
    "accident['Urban_or_Rural_Area'] = accident['Urban_or_Rural_Area'].astype('category')\n",
    "accident['Weather_Conditions'] = accident['Weather_Conditions'].astype('category')\n",
    "accident['Vehicle_Type'] = accident['Vehicle_Type'].astype('category')"
   ]
  },
  {
   "cell_type": "code",
   "execution_count": 15,
   "id": "5203b95f-7854-4b5e-a305-2c615a787f16",
   "metadata": {},
   "outputs": [
    {
     "data": {
      "text/plain": [
       "Index                      0\n",
       "Accident_Severity          0\n",
       "Accident Date              0\n",
       "Latitude                   0\n",
       "Light_Conditions           0\n",
       "District Area              0\n",
       "Longitude                  0\n",
       "Number_of_Casualties       0\n",
       "Number_of_Vehicles         0\n",
       "Road_Surface_Conditions    0\n",
       "Road_Type                  0\n",
       "Urban_or_Rural_Area        0\n",
       "Weather_Conditions         0\n",
       "Vehicle_Type               0\n",
       "dtype: int64"
      ]
     },
     "execution_count": 15,
     "metadata": {},
     "output_type": "execute_result"
    }
   ],
   "source": [
    "accident.isnull().sum()"
   ]
  },
  {
   "cell_type": "code",
   "execution_count": 16,
   "id": "0f6a5de6-6701-4e36-991d-020f3af753f1",
   "metadata": {},
   "outputs": [
    {
     "data": {
      "text/plain": [
       "Index                              object\n",
       "Accident_Severity                category\n",
       "Accident Date              datetime64[ns]\n",
       "Latitude                         category\n",
       "Light_Conditions                 category\n",
       "District Area                    category\n",
       "Longitude                        category\n",
       "Number_of_Casualties                int64\n",
       "Number_of_Vehicles                  int64\n",
       "Road_Surface_Conditions          category\n",
       "Road_Type                        category\n",
       "Urban_or_Rural_Area              category\n",
       "Weather_Conditions               category\n",
       "Vehicle_Type                     category\n",
       "dtype: object"
      ]
     },
     "execution_count": 16,
     "metadata": {},
     "output_type": "execute_result"
    }
   ],
   "source": [
    "accident.dtypes"
   ]
  },
  {
   "cell_type": "markdown",
   "id": "0af5de59-536c-4342-9ef7-e91dd8776dc2",
   "metadata": {},
   "source": [
    "<h1>Extracting date information using pandas date time</h1>"
   ]
  },
  {
   "cell_type": "code",
   "execution_count": 17,
   "id": "8e28920d-e1dd-4297-aa70-6186729812f3",
   "metadata": {},
   "outputs": [],
   "source": [
    "accident['Year'] = accident['Accident Date'].dt.year\n",
    "accident['Month'] = accident['Accident Date'].dt.month\n",
    "accident['Day'] = accident['Accident Date'].dt.day\n",
    "accident['DayOfWeek'] = accident['Accident Date'].dt.dayofweek"
   ]
  },
  {
   "cell_type": "code",
   "execution_count": 18,
   "id": "a82d2f15-ed49-4fe0-9dbf-3897ff077f05",
   "metadata": {},
   "outputs": [
    {
     "data": {
      "text/plain": [
       "Index                      0\n",
       "Accident_Severity          0\n",
       "Accident Date              0\n",
       "Latitude                   0\n",
       "Light_Conditions           0\n",
       "District Area              0\n",
       "Longitude                  0\n",
       "Number_of_Casualties       0\n",
       "Number_of_Vehicles         0\n",
       "Road_Surface_Conditions    0\n",
       "Road_Type                  0\n",
       "Urban_or_Rural_Area        0\n",
       "Weather_Conditions         0\n",
       "Vehicle_Type               0\n",
       "Year                       0\n",
       "Month                      0\n",
       "Day                        0\n",
       "DayOfWeek                  0\n",
       "dtype: int64"
      ]
     },
     "execution_count": 18,
     "metadata": {},
     "output_type": "execute_result"
    }
   ],
   "source": [
    "accident.isnull().sum()"
   ]
  },
  {
   "cell_type": "markdown",
   "id": "03f0d1af-4f2e-4cd5-8c85-5549d7b79056",
   "metadata": {},
   "source": [
    "<h1>Question No.1: What is the most common accident severity category</h1>"
   ]
  },
  {
   "cell_type": "code",
   "execution_count": 19,
   "id": "87f03fc6-e445-4edd-8aad-7e544623d459",
   "metadata": {},
   "outputs": [
    {
     "data": {
      "text/plain": [
       "Accident_Severity\n",
       "Slight     563801\n",
       "Serious     88217\n",
       "Fatal        8661\n",
       "Name: count, dtype: int64"
      ]
     },
     "execution_count": 19,
     "metadata": {},
     "output_type": "execute_result"
    }
   ],
   "source": [
    "accident['Accident_Severity'].value_counts()"
   ]
  },
  {
   "cell_type": "markdown",
   "id": "63f4e96b-da0a-4e2f-bae8-03bb20313308",
   "metadata": {},
   "source": [
    "<h1>Insight No.1: The most common accident severity category is Slight Category</h1>"
   ]
  },
  {
   "cell_type": "markdown",
   "id": "2bbf0a0c-da74-42b0-bbfe-78259c6d4679",
   "metadata": {},
   "source": [
    "<h1>Question No.2: What is the most common type of road surface condition have the most accident?</h1>"
   ]
  },
  {
   "cell_type": "code",
   "execution_count": 20,
   "id": "4a40f142-3fd6-4ff1-88b4-601cadf8434f",
   "metadata": {},
   "outputs": [
    {
     "data": {
      "text/plain": [
       "Road_Surface_Conditions\n",
       "Dry                          447821\n",
       "Wet or damp                  186708\n",
       "Frost or ice                  18517\n",
       "Snow                           5890\n",
       "Flood over 3cm. deep           1017\n",
       "unknown surface condition       726\n",
       "Name: count, dtype: int64"
      ]
     },
     "execution_count": 20,
     "metadata": {},
     "output_type": "execute_result"
    }
   ],
   "source": [
    "accident['Road_Surface_Conditions'].value_counts()"
   ]
  },
  {
   "cell_type": "markdown",
   "id": "29c5633e-3a7a-46fa-adff-68f966de4f3c",
   "metadata": {},
   "source": [
    "<h1>Insight No.2: The most common type of surface condition have the most accident is Dry"
   ]
  },
  {
   "cell_type": "markdown",
   "id": "d3cdc9d7-0c32-46c6-b3a2-df17426c73f6",
   "metadata": {},
   "source": [
    "<h1>Question No.3: What is the most frequent weather condition during accidents?</h1>"
   ]
  },
  {
   "cell_type": "code",
   "execution_count": 21,
   "id": "0c75d686-b7d3-4e36-97b7-1ee9c07f65c0",
   "metadata": {},
   "outputs": [
    {
     "data": {
      "text/plain": [
       "Weather_Conditions\n",
       "Fine no high winds           520885\n",
       "Raining no high winds         79696\n",
       "Other                         17150\n",
       "unknown weather condition     14128\n",
       "Raining + high winds           9615\n",
       "Fine + high winds              8554\n",
       "Snowing no high winds          6238\n",
       "Fog or mist                    3528\n",
       "Snowing + high winds            885\n",
       "Name: count, dtype: int64"
      ]
     },
     "execution_count": 21,
     "metadata": {},
     "output_type": "execute_result"
    }
   ],
   "source": [
    "accident['Weather_Conditions'].value_counts()"
   ]
  },
  {
   "cell_type": "markdown",
   "id": "e53d12c1-16a2-4112-83ea-23a0cf58bb33",
   "metadata": {},
   "source": [
    "<h1>Insight No.3: The most frequet weather condition during accidents is Fine no high winds</h1>"
   ]
  },
  {
   "cell_type": "markdown",
   "id": "b72e6abc-c982-4c67-95ab-78e4e2de0d2b",
   "metadata": {},
   "source": [
    "<h1>Question No.4: What is the most common type of vehicle have the most accident?</h1>"
   ]
  },
  {
   "cell_type": "code",
   "execution_count": 22,
   "id": "680b8f04-dba8-4209-b18f-43db0b18f400",
   "metadata": {},
   "outputs": [
    {
     "data": {
      "text/plain": [
       "Vehicle_Type\n",
       "Car                                      497992\n",
       "Van / Goods 3.5 tonnes mgw or under       34160\n",
       "Bus or coach (17 or more pass seats)      25878\n",
       "Motorcycle over 500cc                     25657\n",
       "Goods 7.5 tonnes mgw and over             17307\n",
       "Motorcycle 125cc and under                15269\n",
       "Taxi/Private hire car                     13294\n",
       "Motorcycle over 125cc and up to 500cc      7656\n",
       "Motorcycle 50cc and under                  7603\n",
       "Goods over 3.5t. and under 7.5t            6096\n",
       "Other vehicle                              5637\n",
       "Minibus (8 - 16 passenger seats)           1976\n",
       "Agricultural vehicle                       1947\n",
       "Pedal cycle                                 197\n",
       "Data missing or out of range                  6\n",
       "Ridden horse                                  4\n",
       "Name: count, dtype: int64"
      ]
     },
     "execution_count": 22,
     "metadata": {},
     "output_type": "execute_result"
    }
   ],
   "source": [
    "accident['Vehicle_Type'].value_counts()"
   ]
  },
  {
   "cell_type": "markdown",
   "id": "961c2aa5-8bd9-4d9f-ba1e-a8ae69e94dd6",
   "metadata": {},
   "source": [
    "<h1>Insight No.4: The most common type of car have the most accident is Car</h1>"
   ]
  },
  {
   "cell_type": "markdown",
   "id": "f2c553f4-e139-484e-8de9-5648a8a69a17",
   "metadata": {},
   "source": [
    "<h1>Question No.5: What area have the most accident is it Urban, Rural or Unallocated</h1>"
   ]
  },
  {
   "cell_type": "code",
   "execution_count": 23,
   "id": "70f77184-deed-474b-9a77-aa6cf0995189",
   "metadata": {},
   "outputs": [
    {
     "data": {
      "text/plain": [
       "Urban_or_Rural_Area\n",
       "Urban          421678\n",
       "Rural          238990\n",
       "Unallocated        11\n",
       "Name: count, dtype: int64"
      ]
     },
     "execution_count": 23,
     "metadata": {},
     "output_type": "execute_result"
    }
   ],
   "source": [
    "accident['Urban_or_Rural_Area'].value_counts()"
   ]
  },
  {
   "cell_type": "markdown",
   "id": "23a0da5f-99f6-4d37-84d2-e9f06ef8bde9",
   "metadata": {},
   "source": [
    "<h1>Insight No.5: The area that have a most accident is Urban</h1>"
   ]
  },
  {
   "cell_type": "markdown",
   "id": "16a40d49-44b7-4e65-b394-325740d8d10c",
   "metadata": {},
   "source": [
    "<h1>Question No.6: What Year have the most number of accident?</h1>"
   ]
  },
  {
   "cell_type": "code",
   "execution_count": 24,
   "id": "1ec8d579-e60e-4067-9dad-8c9e0bf49e9b",
   "metadata": {},
   "outputs": [
    {
     "data": {
      "text/plain": [
       "Year\n",
       "2019    182115\n",
       "2020    170591\n",
       "2021    163554\n",
       "2022    144419\n",
       "Name: count, dtype: int64"
      ]
     },
     "execution_count": 24,
     "metadata": {},
     "output_type": "execute_result"
    }
   ],
   "source": [
    "accident['Year'].value_counts()"
   ]
  },
  {
   "cell_type": "markdown",
   "id": "45152586-09de-4b6c-b29f-5f3a7c2c88d5",
   "metadata": {},
   "source": [
    "<h1>Insight No.6: The year that have the most number of accident is year 2019</h1>"
   ]
  },
  {
   "cell_type": "markdown",
   "id": "fe203448-2673-4b25-b3b9-bafc437ec35e",
   "metadata": {},
   "source": [
    "<h1>Question No.7: What Month have the most number of accident?</h1>"
   ]
  },
  {
   "cell_type": "code",
   "execution_count": 25,
   "id": "4d7681d8-0856-4ff5-a228-74f990dd2d76",
   "metadata": {},
   "outputs": [
    {
     "data": {
      "text/plain": [
       "Month\n",
       "11    60424\n",
       "10    59580\n",
       "7     57445\n",
       "6     56481\n",
       "9     56455\n",
       "5     56352\n",
       "3     54086\n",
       "8     53913\n",
       "1     52872\n",
       "12    51836\n",
       "4     51744\n",
       "2     49491\n",
       "Name: count, dtype: int64"
      ]
     },
     "execution_count": 25,
     "metadata": {},
     "output_type": "execute_result"
    }
   ],
   "source": [
    "accident['Month'].value_counts()"
   ]
  },
  {
   "cell_type": "markdown",
   "id": "da5d68a0-5e1d-4f21-988d-015eecf8ba6d",
   "metadata": {},
   "source": [
    "<h1>Insight No.7: The month that have the most number of accident is month of November</h1>"
   ]
  },
  {
   "cell_type": "markdown",
   "id": "b516d2f7-128e-404e-8b57-94434c996a4b",
   "metadata": {},
   "source": [
    "<h1>Question No.8: What Day have the most number of accident?</h1>"
   ]
  },
  {
   "cell_type": "code",
   "execution_count": 26,
   "id": "49cb73f3-d7ca-4579-a165-b74731b43e9d",
   "metadata": {},
   "outputs": [
    {
     "data": {
      "text/plain": [
       "Day\n",
       "1     22606\n",
       "12    22536\n",
       "11    22503\n",
       "5     22409\n",
       "10    22328\n",
       "9     22252\n",
       "17    22117\n",
       "23    21997\n",
       "6     21974\n",
       "16    21972\n",
       "19    21956\n",
       "8     21914\n",
       "20    21838\n",
       "15    21818\n",
       "13    21816\n",
       "2     21815\n",
       "18    21719\n",
       "4     21699\n",
       "21    21641\n",
       "22    21634\n",
       "3     21540\n",
       "14    21474\n",
       "7     21431\n",
       "24    21301\n",
       "26    21168\n",
       "27    21038\n",
       "28    20707\n",
       "29    20138\n",
       "25    19949\n",
       "30    19573\n",
       "31    11816\n",
       "Name: count, dtype: int64"
      ]
     },
     "execution_count": 26,
     "metadata": {},
     "output_type": "execute_result"
    }
   ],
   "source": [
    "accident['Day'].value_counts()"
   ]
  },
  {
   "cell_type": "markdown",
   "id": "146ff9cc-c2a8-4dc6-9efa-4a96e88ce9e1",
   "metadata": {},
   "source": [
    "<h1>Insight No.8: The day that have the most number of accident is day 1</h1>"
   ]
  },
  {
   "cell_type": "markdown",
   "id": "ffd48e16-0e92-46df-86de-59b41315e246",
   "metadata": {},
   "source": [
    "<h1>Question No.9: What District have the most accident happened?</h1>"
   ]
  },
  {
   "cell_type": "code",
   "execution_count": 27,
   "id": "e3bd25e2-7566-4398-a624-21505a473100",
   "metadata": {},
   "outputs": [
    {
     "data": {
      "text/plain": [
       "'Birmingham'"
      ]
     },
     "execution_count": 27,
     "metadata": {},
     "output_type": "execute_result"
    }
   ],
   "source": [
    "accident['District Area'].mode()[0]"
   ]
  },
  {
   "cell_type": "markdown",
   "id": "2dca32f9-df58-441f-9191-bdb2b537510b",
   "metadata": {},
   "source": [
    "<h1>Insight No.9: The District that have the most accident happened is Birmingham</h1>"
   ]
  },
  {
   "cell_type": "markdown",
   "id": "b2aad97e-36ce-40e8-a1d8-ec0cf189c2f6",
   "metadata": {},
   "source": [
    "<h1>Question No.10: What Road Type have the most accident happened</h1>"
   ]
  },
  {
   "cell_type": "code",
   "execution_count": 28,
   "id": "1a13e655-aeaa-4902-8546-14bc83877379",
   "metadata": {},
   "outputs": [
    {
     "data": {
      "text/plain": [
       "'Single carriageway'"
      ]
     },
     "execution_count": 28,
     "metadata": {},
     "output_type": "execute_result"
    }
   ],
   "source": [
    "accident['Road_Type'].mode()[0]"
   ]
  },
  {
   "cell_type": "markdown",
   "id": "6c368805-8dba-40ee-967a-a0f2f2a7e708",
   "metadata": {},
   "source": [
    "<h1>Insight No.10: The Road Type that have the most accident happened is Single carriageway</h1>"
   ]
  },
  {
   "cell_type": "markdown",
   "id": "8dca6f0f-c56a-4497-962d-65930a06f736",
   "metadata": {},
   "source": [
    "<h1>Bivariate</h1>"
   ]
  },
  {
   "cell_type": "markdown",
   "id": "35e8d73c-8652-4393-bf5f-e93249196296",
   "metadata": {},
   "source": [
    "<h1>Question No.11: Is there a correlation between the number of vehicles involved in an accident and the severity of the accident?</h1>"
   ]
  },
  {
   "cell_type": "code",
   "execution_count": 29,
   "id": "eb41958c-7363-417b-8c99-6cb713188f86",
   "metadata": {},
   "outputs": [
    {
     "data": {
      "text/plain": [
       "Accident_Severity\n",
       "Fatal      1.786976\n",
       "Serious    1.678327\n",
       "Slight     1.855864\n",
       "Name: Number_of_Vehicles, dtype: float64"
      ]
     },
     "execution_count": 29,
     "metadata": {},
     "output_type": "execute_result"
    }
   ],
   "source": [
    "accident.groupby('Accident_Severity')['Number_of_Vehicles'].mean()"
   ]
  },
  {
   "cell_type": "markdown",
   "id": "0d430fe9-46e6-45e2-8d86-b19479b7d5c5",
   "metadata": {},
   "source": [
    "<h1>The average number of vehicles does not show a clear, strong correlation with the severity of accidents based on this analysis, although slight accidents tend to involve a slightly higher number of vehicles.</h1>"
   ]
  },
  {
   "cell_type": "markdown",
   "id": "fa33b129-e1a6-4b20-a643-62a4eda84889",
   "metadata": {},
   "source": [
    "<h1>Question No.12: How does the severity of accidents vary under different light conditions?</h1>"
   ]
  },
  {
   "cell_type": "code",
   "execution_count": 30,
   "id": "d2b74bbb-3492-4ccd-a794-a39d1d62cdd7",
   "metadata": {},
   "outputs": [
    {
     "data": {
      "text/html": [
       "<div>\n",
       "<style scoped>\n",
       "    .dataframe tbody tr th:only-of-type {\n",
       "        vertical-align: middle;\n",
       "    }\n",
       "\n",
       "    .dataframe tbody tr th {\n",
       "        vertical-align: top;\n",
       "    }\n",
       "\n",
       "    .dataframe thead th {\n",
       "        text-align: right;\n",
       "    }\n",
       "</style>\n",
       "<table border=\"1\" class=\"dataframe\">\n",
       "  <thead>\n",
       "    <tr style=\"text-align: right;\">\n",
       "      <th>Accident_Severity</th>\n",
       "      <th>Fatal</th>\n",
       "      <th>Serious</th>\n",
       "      <th>Slight</th>\n",
       "    </tr>\n",
       "    <tr>\n",
       "      <th>Light_Conditions</th>\n",
       "      <th></th>\n",
       "      <th></th>\n",
       "      <th></th>\n",
       "    </tr>\n",
       "  </thead>\n",
       "  <tbody>\n",
       "    <tr>\n",
       "      <th>Darkness - lighting unknown</th>\n",
       "      <td>68</td>\n",
       "      <td>794</td>\n",
       "      <td>5622</td>\n",
       "    </tr>\n",
       "    <tr>\n",
       "      <th>Darkness - lights lit</th>\n",
       "      <td>1860</td>\n",
       "      <td>19130</td>\n",
       "      <td>108345</td>\n",
       "    </tr>\n",
       "    <tr>\n",
       "      <th>Darkness - lights unlit</th>\n",
       "      <td>45</td>\n",
       "      <td>360</td>\n",
       "      <td>2138</td>\n",
       "    </tr>\n",
       "    <tr>\n",
       "      <th>Darkness - no lighting</th>\n",
       "      <td>1612</td>\n",
       "      <td>7174</td>\n",
       "      <td>28651</td>\n",
       "    </tr>\n",
       "    <tr>\n",
       "      <th>Daylight</th>\n",
       "      <td>5076</td>\n",
       "      <td>60759</td>\n",
       "      <td>419045</td>\n",
       "    </tr>\n",
       "  </tbody>\n",
       "</table>\n",
       "</div>"
      ],
      "text/plain": [
       "Accident_Severity            Fatal  Serious  Slight\n",
       "Light_Conditions                                   \n",
       "Darkness - lighting unknown     68      794    5622\n",
       "Darkness - lights lit         1860    19130  108345\n",
       "Darkness - lights unlit         45      360    2138\n",
       "Darkness - no lighting        1612     7174   28651\n",
       "Daylight                      5076    60759  419045"
      ]
     },
     "execution_count": 30,
     "metadata": {},
     "output_type": "execute_result"
    }
   ],
   "source": [
    "accident.groupby('Light_Conditions')['Accident_Severity'].value_counts().unstack()"
   ]
  },
  {
   "cell_type": "markdown",
   "id": "5991391b-508c-4079-8905-3920f338e6d2",
   "metadata": {},
   "source": [
    "<h1>Insight No.12: Accidents are more severe in darkness, especially with no or unlit lighting. Daylight and proper lighting reduce severity, while poor visibility increases serious or fatal accidents.</h1>"
   ]
  },
  {
   "cell_type": "markdown",
   "id": "ba17101a-d375-47fd-a987-3020e5ab0239",
   "metadata": {},
   "source": [
    "<h1>Question No.13: How does the number of casualties in an accident change depending on the type of road where the accident occurs?</h1>"
   ]
  },
  {
   "cell_type": "code",
   "execution_count": 31,
   "id": "62227b14-287b-4763-a773-db3f45bd15b1",
   "metadata": {},
   "outputs": [
    {
     "data": {
      "text/plain": [
       "Road_Type\n",
       "Dual carriageway      1.477279\n",
       "One way street        1.192713\n",
       "Roundabout            1.274891\n",
       "Single carriageway    1.344666\n",
       "Slip road             1.423661\n",
       "unknown road type     1.248230\n",
       "Name: Number_of_Casualties, dtype: float64"
      ]
     },
     "execution_count": 31,
     "metadata": {},
     "output_type": "execute_result"
    }
   ],
   "source": [
    "accident.groupby('Road_Type')['Number_of_Casualties'].mean()"
   ]
  },
  {
   "cell_type": "markdown",
   "id": "7959e79c-b311-4d4f-8484-70cba6df8192",
   "metadata": {},
   "source": [
    "<h1>Insight No.13: Dual carriageways have the most casualties, likely due to higher speeds, while one-way streets have the fewest. Other road types show moderate casualties, and unknown road types have relatively low numbers, possibly due to incomplete data.</h1>"
   ]
  },
  {
   "cell_type": "markdown",
   "id": "48b57d3f-fe8e-48fd-8a54-c34f92c4788a",
   "metadata": {},
   "source": [
    "<h1>Question No.14: How do weather conditions influence the road surface conditions at the time of an accident?</h1>"
   ]
  },
  {
   "cell_type": "code",
   "execution_count": 32,
   "id": "7da6b765-3ae6-42ac-9017-718cb9cf4d70",
   "metadata": {},
   "outputs": [
    {
     "data": {
      "text/html": [
       "<div>\n",
       "<style scoped>\n",
       "    .dataframe tbody tr th:only-of-type {\n",
       "        vertical-align: middle;\n",
       "    }\n",
       "\n",
       "    .dataframe tbody tr th {\n",
       "        vertical-align: top;\n",
       "    }\n",
       "\n",
       "    .dataframe thead th {\n",
       "        text-align: right;\n",
       "    }\n",
       "</style>\n",
       "<table border=\"1\" class=\"dataframe\">\n",
       "  <thead>\n",
       "    <tr style=\"text-align: right;\">\n",
       "      <th>Road_Surface_Conditions</th>\n",
       "      <th>Dry</th>\n",
       "      <th>Flood over 3cm. deep</th>\n",
       "      <th>Frost or ice</th>\n",
       "      <th>Snow</th>\n",
       "      <th>Wet or damp</th>\n",
       "      <th>unknown surface condition</th>\n",
       "    </tr>\n",
       "    <tr>\n",
       "      <th>Weather_Conditions</th>\n",
       "      <th></th>\n",
       "      <th></th>\n",
       "      <th></th>\n",
       "      <th></th>\n",
       "      <th></th>\n",
       "      <th></th>\n",
       "    </tr>\n",
       "  </thead>\n",
       "  <tbody>\n",
       "    <tr>\n",
       "      <th>Fine + high winds</th>\n",
       "      <td>5023</td>\n",
       "      <td>15</td>\n",
       "      <td>183</td>\n",
       "      <td>19</td>\n",
       "      <td>3311</td>\n",
       "      <td>3</td>\n",
       "    </tr>\n",
       "    <tr>\n",
       "      <th>Fine no high winds</th>\n",
       "      <td>427799</td>\n",
       "      <td>113</td>\n",
       "      <td>10653</td>\n",
       "      <td>1043</td>\n",
       "      <td>81178</td>\n",
       "      <td>99</td>\n",
       "    </tr>\n",
       "    <tr>\n",
       "      <th>Fog or mist</th>\n",
       "      <td>471</td>\n",
       "      <td>3</td>\n",
       "      <td>709</td>\n",
       "      <td>27</td>\n",
       "      <td>2316</td>\n",
       "      <td>2</td>\n",
       "    </tr>\n",
       "    <tr>\n",
       "      <th>Other</th>\n",
       "      <td>2628</td>\n",
       "      <td>19</td>\n",
       "      <td>4718</td>\n",
       "      <td>413</td>\n",
       "      <td>9366</td>\n",
       "      <td>6</td>\n",
       "    </tr>\n",
       "    <tr>\n",
       "      <th>Raining + high winds</th>\n",
       "      <td>72</td>\n",
       "      <td>291</td>\n",
       "      <td>52</td>\n",
       "      <td>16</td>\n",
       "      <td>9184</td>\n",
       "      <td>0</td>\n",
       "    </tr>\n",
       "    <tr>\n",
       "      <th>Raining no high winds</th>\n",
       "      <td>547</td>\n",
       "      <td>548</td>\n",
       "      <td>404</td>\n",
       "      <td>106</td>\n",
       "      <td>78087</td>\n",
       "      <td>4</td>\n",
       "    </tr>\n",
       "    <tr>\n",
       "      <th>Snowing + high winds</th>\n",
       "      <td>4</td>\n",
       "      <td>3</td>\n",
       "      <td>162</td>\n",
       "      <td>549</td>\n",
       "      <td>167</td>\n",
       "      <td>0</td>\n",
       "    </tr>\n",
       "    <tr>\n",
       "      <th>Snowing no high winds</th>\n",
       "      <td>54</td>\n",
       "      <td>6</td>\n",
       "      <td>1411</td>\n",
       "      <td>3659</td>\n",
       "      <td>1108</td>\n",
       "      <td>0</td>\n",
       "    </tr>\n",
       "    <tr>\n",
       "      <th>unknown weather condition</th>\n",
       "      <td>11223</td>\n",
       "      <td>19</td>\n",
       "      <td>225</td>\n",
       "      <td>58</td>\n",
       "      <td>1991</td>\n",
       "      <td>612</td>\n",
       "    </tr>\n",
       "  </tbody>\n",
       "</table>\n",
       "</div>"
      ],
      "text/plain": [
       "Road_Surface_Conditions       Dry  Flood over 3cm. deep  Frost or ice  Snow  \\\n",
       "Weather_Conditions                                                            \n",
       "Fine + high winds            5023                    15           183    19   \n",
       "Fine no high winds         427799                   113         10653  1043   \n",
       "Fog or mist                   471                     3           709    27   \n",
       "Other                        2628                    19          4718   413   \n",
       "Raining + high winds           72                   291            52    16   \n",
       "Raining no high winds         547                   548           404   106   \n",
       "Snowing + high winds            4                     3           162   549   \n",
       "Snowing no high winds          54                     6          1411  3659   \n",
       "unknown weather condition   11223                    19           225    58   \n",
       "\n",
       "Road_Surface_Conditions    Wet or damp  unknown surface condition  \n",
       "Weather_Conditions                                                 \n",
       "Fine + high winds                 3311                          3  \n",
       "Fine no high winds               81178                         99  \n",
       "Fog or mist                       2316                          2  \n",
       "Other                             9366                          6  \n",
       "Raining + high winds              9184                          0  \n",
       "Raining no high winds            78087                          4  \n",
       "Snowing + high winds               167                          0  \n",
       "Snowing no high winds             1108                          0  \n",
       "unknown weather condition         1991                        612  "
      ]
     },
     "execution_count": 32,
     "metadata": {},
     "output_type": "execute_result"
    }
   ],
   "source": [
    "accident.groupby(['Weather_Conditions', 'Road_Surface_Conditions']).size().unstack()"
   ]
  },
  {
   "cell_type": "markdown",
   "id": "ca9a1734-1da9-4e7c-97d0-615d9c58b4c8",
   "metadata": {},
   "source": [
    "<h1>Insight No.14: Weather conditions significantly affect road surface conditions, with dry surfaces dominating in fine weather, while wet, snow, and frost or ice conditions are more prevalent in specific weather conditions like rain, snow, and fog.</h1>"
   ]
  },
  {
   "cell_type": "markdown",
   "id": "f719d6ba-efc2-4142-980f-4ba89f7523e4",
   "metadata": {},
   "source": [
    "<h1>Question No.15: How does accident severity vary with different weather conditions?</h1>"
   ]
  },
  {
   "cell_type": "code",
   "execution_count": 33,
   "id": "4fe99965-b2dd-4486-932c-0c49de89b3f6",
   "metadata": {},
   "outputs": [
    {
     "data": {
      "text/html": [
       "<div>\n",
       "<style scoped>\n",
       "    .dataframe tbody tr th:only-of-type {\n",
       "        vertical-align: middle;\n",
       "    }\n",
       "\n",
       "    .dataframe tbody tr th {\n",
       "        vertical-align: top;\n",
       "    }\n",
       "\n",
       "    .dataframe thead th {\n",
       "        text-align: right;\n",
       "    }\n",
       "</style>\n",
       "<table border=\"1\" class=\"dataframe\">\n",
       "  <thead>\n",
       "    <tr style=\"text-align: right;\">\n",
       "      <th>Accident_Severity</th>\n",
       "      <th>Fatal</th>\n",
       "      <th>Serious</th>\n",
       "      <th>Slight</th>\n",
       "    </tr>\n",
       "    <tr>\n",
       "      <th>Weather_Conditions</th>\n",
       "      <th></th>\n",
       "      <th></th>\n",
       "      <th></th>\n",
       "    </tr>\n",
       "  </thead>\n",
       "  <tbody>\n",
       "    <tr>\n",
       "      <th>Fine + high winds</th>\n",
       "      <td>175</td>\n",
       "      <td>1245</td>\n",
       "      <td>7134</td>\n",
       "    </tr>\n",
       "    <tr>\n",
       "      <th>Fine no high winds</th>\n",
       "      <td>7100</td>\n",
       "      <td>72046</td>\n",
       "      <td>441739</td>\n",
       "    </tr>\n",
       "    <tr>\n",
       "      <th>Fog or mist</th>\n",
       "      <td>82</td>\n",
       "      <td>483</td>\n",
       "      <td>2963</td>\n",
       "    </tr>\n",
       "    <tr>\n",
       "      <th>Other</th>\n",
       "      <td>165</td>\n",
       "      <td>1801</td>\n",
       "      <td>15184</td>\n",
       "    </tr>\n",
       "    <tr>\n",
       "      <th>Raining + high winds</th>\n",
       "      <td>145</td>\n",
       "      <td>1261</td>\n",
       "      <td>8209</td>\n",
       "    </tr>\n",
       "    <tr>\n",
       "      <th>Raining no high winds</th>\n",
       "      <td>848</td>\n",
       "      <td>9468</td>\n",
       "      <td>69380</td>\n",
       "    </tr>\n",
       "    <tr>\n",
       "      <th>Snowing + high winds</th>\n",
       "      <td>3</td>\n",
       "      <td>109</td>\n",
       "      <td>773</td>\n",
       "    </tr>\n",
       "    <tr>\n",
       "      <th>Snowing no high winds</th>\n",
       "      <td>36</td>\n",
       "      <td>565</td>\n",
       "      <td>5637</td>\n",
       "    </tr>\n",
       "    <tr>\n",
       "      <th>unknown weather condition</th>\n",
       "      <td>107</td>\n",
       "      <td>1239</td>\n",
       "      <td>12782</td>\n",
       "    </tr>\n",
       "  </tbody>\n",
       "</table>\n",
       "</div>"
      ],
      "text/plain": [
       "Accident_Severity          Fatal  Serious  Slight\n",
       "Weather_Conditions                               \n",
       "Fine + high winds            175     1245    7134\n",
       "Fine no high winds          7100    72046  441739\n",
       "Fog or mist                   82      483    2963\n",
       "Other                        165     1801   15184\n",
       "Raining + high winds         145     1261    8209\n",
       "Raining no high winds        848     9468   69380\n",
       "Snowing + high winds           3      109     773\n",
       "Snowing no high winds         36      565    5637\n",
       "unknown weather condition    107     1239   12782"
      ]
     },
     "execution_count": 33,
     "metadata": {},
     "output_type": "execute_result"
    }
   ],
   "source": [
    "accident.groupby('Weather_Conditions')['Accident_Severity'].value_counts().unstack()"
   ]
  },
  {
   "cell_type": "markdown",
   "id": "b9e8940c-5004-4ab7-80da-11c8f6b4ada4",
   "metadata": {},
   "source": [
    "<h1>Insight No.15: Accidents are most slight in fine weather, while raining and foggy conditions cause more serious accidents. Snowing and high winds result in fewer fatal accidents but still significant serious and slight accidents.</h1>"
   ]
  },
  {
   "cell_type": "markdown",
   "id": "12e8b6ab-ecd3-42ac-a8c6-a4455c9dc835",
   "metadata": {},
   "source": [
    "<h1>Question No.16: Is there a noticeable trend in the number of vehicles involved in accidents over time?</h1>"
   ]
  },
  {
   "cell_type": "code",
   "execution_count": 34,
   "id": "5a933513-06c6-40fe-9d54-7a699a21cb69",
   "metadata": {},
   "outputs": [
    {
     "data": {
      "text/plain": [
       "Accident Date\n",
       "2019    1.839310\n",
       "2020    1.826615\n",
       "2021    1.826229\n",
       "2022    1.832273\n",
       "Name: Number_of_Vehicles, dtype: float64"
      ]
     },
     "execution_count": 34,
     "metadata": {},
     "output_type": "execute_result"
    }
   ],
   "source": [
    "accident.groupby(accident['Accident Date'].dt.year)['Number_of_Vehicles'].mean()"
   ]
  },
  {
   "cell_type": "markdown",
   "id": "4971c805-adf7-4f7d-a85a-d4ebbc3d5e21",
   "metadata": {},
   "source": [
    "<h1>Insight No.16: There is no noticeable trend in the number of vehicles involved in accidents over time. The average number remains fairly consistent across the years, hovering around 1.83 vehicles per accident.</h1>"
   ]
  },
  {
   "cell_type": "markdown",
   "id": "24bcabc9-2979-40c0-a90e-f67bfca16fbb",
   "metadata": {},
   "source": [
    "<h1>Question No.17: Are accidents in urban areas more severe than those in rural areas?</h1>"
   ]
  },
  {
   "cell_type": "code",
   "execution_count": 35,
   "id": "3dd0ac2d-3f30-492d-b772-a84d427eaa9b",
   "metadata": {},
   "outputs": [
    {
     "data": {
      "text/plain": [
       "Urban_or_Rural_Area  Accident_Severity\n",
       "Rural                Slight               196077\n",
       "                     Serious               37312\n",
       "                     Fatal                  5601\n",
       "Unallocated          Slight                   10\n",
       "                     Serious                   1\n",
       "                     Fatal                     0\n",
       "Urban                Slight               367714\n",
       "                     Serious               50904\n",
       "                     Fatal                  3060\n",
       "Name: count, dtype: int64"
      ]
     },
     "execution_count": 35,
     "metadata": {},
     "output_type": "execute_result"
    }
   ],
   "source": [
    "accident.groupby('Urban_or_Rural_Area')['Accident_Severity'].value_counts()"
   ]
  },
  {
   "cell_type": "markdown",
   "id": "e80112d9-a3b7-4e03-b376-d209ba91b6ed",
   "metadata": {},
   "source": [
    "<h1>Insight No.17: Urban areas have more serious accident and rural areas have a slightly higher number of fatal accidents.</h1>"
   ]
  },
  {
   "cell_type": "markdown",
   "id": "db3d1bdb-947b-442f-82ac-7b4a3c3ae47c",
   "metadata": {},
   "source": [
    "<h1>Question No.18: Does the type of vehicle involved in an accident influence the number of casualties?</h1>"
   ]
  },
  {
   "cell_type": "code",
   "execution_count": 36,
   "id": "b516c790-6718-4de9-bbd4-44307f408e43",
   "metadata": {},
   "outputs": [
    {
     "data": {
      "text/plain": [
       "Vehicle_Type\n",
       "Agricultural vehicle                     1.342065\n",
       "Bus or coach (17 or more pass seats)     1.349216\n",
       "Car                                      1.358841\n",
       "Data missing or out of range             1.500000\n",
       "Goods 7.5 tonnes mgw and over            1.351881\n",
       "Goods over 3.5t. and under 7.5t          1.362861\n",
       "Minibus (8 - 16 passenger seats)         1.345648\n",
       "Motorcycle 125cc and under               1.332635\n",
       "Motorcycle 50cc and under                1.337235\n",
       "Motorcycle over 125cc and up to 500cc    1.343521\n",
       "Motorcycle over 500cc                    1.359434\n",
       "Other vehicle                            1.340075\n",
       "Pedal cycle                              1.370558\n",
       "Ridden horse                             1.250000\n",
       "Taxi/Private hire car                    1.368663\n",
       "Van / Goods 3.5 tonnes mgw or under      1.354537\n",
       "Name: Number_of_Casualties, dtype: float64"
      ]
     },
     "execution_count": 36,
     "metadata": {},
     "output_type": "execute_result"
    }
   ],
   "source": [
    "accident.groupby('Vehicle_Type')['Number_of_Casualties'].mean()"
   ]
  },
  {
   "cell_type": "markdown",
   "id": "d5829a96-5aaa-4a20-b2c7-386b9d99e50b",
   "metadata": {},
   "source": [
    "<h1>Insight No.18: The type of vehicle does have a slight influence on the number of casualties, with pedal cycles and taxis/private hire cars seeing slightly higher casualties on average, while ridden horses tend to have the lowest.</h1>"
   ]
  },
  {
   "cell_type": "markdown",
   "id": "fb5ccae9-0ad6-49ab-974b-97f6b3dfc83d",
   "metadata": {},
   "source": [
    "<h1>Question No.19: How does the number of casualties in an accident vary with different weather conditions?</h1>"
   ]
  },
  {
   "cell_type": "code",
   "execution_count": 37,
   "id": "45709090-f878-40b7-8791-e8ef5cfc9aa4",
   "metadata": {},
   "outputs": [
    {
     "data": {
      "text/plain": [
       "Weather_Conditions\n",
       "Fine + high winds            1.386018\n",
       "Fine no high winds           1.350480\n",
       "Fog or mist                  1.452948\n",
       "Other                        1.354869\n",
       "Raining + high winds         1.416641\n",
       "Raining no high winds        1.408214\n",
       "Snowing + high winds         1.418079\n",
       "Snowing no high winds        1.341776\n",
       "unknown weather condition    1.233720\n",
       "Name: Number_of_Casualties, dtype: float64"
      ]
     },
     "execution_count": 37,
     "metadata": {},
     "output_type": "execute_result"
    }
   ],
   "source": [
    "accident.groupby('Weather_Conditions')['Number_of_Casualties'].mean()"
   ]
  },
  {
   "cell_type": "markdown",
   "id": "739925f1-5fcd-4431-824c-3bfb6c858900",
   "metadata": {},
   "source": [
    "<h1>Insight No.19: Weather conditions impact the number of casualties, with fog or mist causing the most, while unknown weather conditions result in the least. Severe conditions like high winds tend to increase casualties.</h1>"
   ]
  },
  {
   "cell_type": "markdown",
   "id": "9ab989c8-df8e-4c96-aa4f-e269c1d1e55e",
   "metadata": {},
   "source": [
    "<h1>Question No.20: How does the severity of accidents vary across different district areas?</h1>"
   ]
  },
  {
   "cell_type": "code",
   "execution_count": 38,
   "id": "d5198619-f36a-4feb-9c0b-4d088dcf53fc",
   "metadata": {},
   "outputs": [
    {
     "data": {
      "text/html": [
       "<div>\n",
       "<style scoped>\n",
       "    .dataframe tbody tr th:only-of-type {\n",
       "        vertical-align: middle;\n",
       "    }\n",
       "\n",
       "    .dataframe tbody tr th {\n",
       "        vertical-align: top;\n",
       "    }\n",
       "\n",
       "    .dataframe thead th {\n",
       "        text-align: right;\n",
       "    }\n",
       "</style>\n",
       "<table border=\"1\" class=\"dataframe\">\n",
       "  <thead>\n",
       "    <tr style=\"text-align: right;\">\n",
       "      <th>Accident_Severity</th>\n",
       "      <th>Fatal</th>\n",
       "      <th>Serious</th>\n",
       "      <th>Slight</th>\n",
       "    </tr>\n",
       "    <tr>\n",
       "      <th>District Area</th>\n",
       "      <th></th>\n",
       "      <th></th>\n",
       "      <th></th>\n",
       "    </tr>\n",
       "  </thead>\n",
       "  <tbody>\n",
       "    <tr>\n",
       "      <th>Aberdeen City</th>\n",
       "      <td>12</td>\n",
       "      <td>239</td>\n",
       "      <td>1072</td>\n",
       "    </tr>\n",
       "    <tr>\n",
       "      <th>Aberdeenshire</th>\n",
       "      <td>66</td>\n",
       "      <td>463</td>\n",
       "      <td>1401</td>\n",
       "    </tr>\n",
       "    <tr>\n",
       "      <th>Adur</th>\n",
       "      <td>8</td>\n",
       "      <td>101</td>\n",
       "      <td>510</td>\n",
       "    </tr>\n",
       "    <tr>\n",
       "      <th>Allerdale</th>\n",
       "      <td>24</td>\n",
       "      <td>143</td>\n",
       "      <td>961</td>\n",
       "    </tr>\n",
       "    <tr>\n",
       "      <th>Alnwick</th>\n",
       "      <td>6</td>\n",
       "      <td>33</td>\n",
       "      <td>193</td>\n",
       "    </tr>\n",
       "    <tr>\n",
       "      <th>...</th>\n",
       "      <td>...</td>\n",
       "      <td>...</td>\n",
       "      <td>...</td>\n",
       "    </tr>\n",
       "    <tr>\n",
       "      <th>Wychavon</th>\n",
       "      <td>30</td>\n",
       "      <td>193</td>\n",
       "      <td>1138</td>\n",
       "    </tr>\n",
       "    <tr>\n",
       "      <th>Wycombe</th>\n",
       "      <td>20</td>\n",
       "      <td>216</td>\n",
       "      <td>1493</td>\n",
       "    </tr>\n",
       "    <tr>\n",
       "      <th>Wyre</th>\n",
       "      <td>15</td>\n",
       "      <td>186</td>\n",
       "      <td>1037</td>\n",
       "    </tr>\n",
       "    <tr>\n",
       "      <th>Wyre Forest</th>\n",
       "      <td>22</td>\n",
       "      <td>132</td>\n",
       "      <td>815</td>\n",
       "    </tr>\n",
       "    <tr>\n",
       "      <th>York</th>\n",
       "      <td>21</td>\n",
       "      <td>255</td>\n",
       "      <td>1621</td>\n",
       "    </tr>\n",
       "  </tbody>\n",
       "</table>\n",
       "<p>422 rows × 3 columns</p>\n",
       "</div>"
      ],
      "text/plain": [
       "Accident_Severity  Fatal  Serious  Slight\n",
       "District Area                            \n",
       "Aberdeen City         12      239    1072\n",
       "Aberdeenshire         66      463    1401\n",
       "Adur                   8      101     510\n",
       "Allerdale             24      143     961\n",
       "Alnwick                6       33     193\n",
       "...                  ...      ...     ...\n",
       "Wychavon              30      193    1138\n",
       "Wycombe               20      216    1493\n",
       "Wyre                  15      186    1037\n",
       "Wyre Forest           22      132     815\n",
       "York                  21      255    1621\n",
       "\n",
       "[422 rows x 3 columns]"
      ]
     },
     "execution_count": 38,
     "metadata": {},
     "output_type": "execute_result"
    }
   ],
   "source": [
    "accident.groupby('District Area')['Accident_Severity'].value_counts().unstack()"
   ]
  },
  {
   "cell_type": "markdown",
   "id": "c69f3389-2245-4b14-848f-837ea63513c7",
   "metadata": {},
   "source": [
    "<h1>Insight No.20: The severity of accidents varies widely by district area, with certain areas experiencing higher numbers of serious and fatal accidents, while others have a larger proportion of slight accidents.</h1>"
   ]
  },
  {
   "cell_type": "markdown",
   "id": "ba914cd2-3173-4e56-b1ca-57d523024f4e",
   "metadata": {},
   "source": [
    "<h1>Multivariate</h1>"
   ]
  },
  {
   "cell_type": "markdown",
   "id": "cca12c30-3acf-43e1-917b-eed81901d0ee",
   "metadata": {},
   "source": [
    "<h1>Question No.21: How does the fatal accident severity vary across different weather conditions and road types?</h1>>"
   ]
  },
  {
   "cell_type": "code",
   "execution_count": 39,
   "id": "318199c6-3f3b-4640-8c90-c64d3291690b",
   "metadata": {},
   "outputs": [
    {
     "data": {
      "text/html": [
       "<div>\n",
       "<style scoped>\n",
       "    .dataframe tbody tr th:only-of-type {\n",
       "        vertical-align: middle;\n",
       "    }\n",
       "\n",
       "    .dataframe tbody tr th {\n",
       "        vertical-align: top;\n",
       "    }\n",
       "\n",
       "    .dataframe thead th {\n",
       "        text-align: right;\n",
       "    }\n",
       "</style>\n",
       "<table border=\"1\" class=\"dataframe\">\n",
       "  <thead>\n",
       "    <tr style=\"text-align: right;\">\n",
       "      <th>Road_Type</th>\n",
       "      <th>Dual carriageway</th>\n",
       "      <th>One way street</th>\n",
       "      <th>Roundabout</th>\n",
       "      <th>Single carriageway</th>\n",
       "      <th>Slip road</th>\n",
       "      <th>unknown road type</th>\n",
       "    </tr>\n",
       "    <tr>\n",
       "      <th>Weather_Conditions</th>\n",
       "      <th></th>\n",
       "      <th></th>\n",
       "      <th></th>\n",
       "      <th></th>\n",
       "      <th></th>\n",
       "      <th></th>\n",
       "    </tr>\n",
       "  </thead>\n",
       "  <tbody>\n",
       "    <tr>\n",
       "      <th>Fine + high winds</th>\n",
       "      <td>32</td>\n",
       "      <td>5</td>\n",
       "      <td>5</td>\n",
       "      <td>133</td>\n",
       "      <td>0</td>\n",
       "      <td>0</td>\n",
       "    </tr>\n",
       "    <tr>\n",
       "      <th>Fine no high winds</th>\n",
       "      <td>1461</td>\n",
       "      <td>81</td>\n",
       "      <td>121</td>\n",
       "      <td>5375</td>\n",
       "      <td>37</td>\n",
       "      <td>25</td>\n",
       "    </tr>\n",
       "    <tr>\n",
       "      <th>Fog or mist</th>\n",
       "      <td>24</td>\n",
       "      <td>0</td>\n",
       "      <td>3</td>\n",
       "      <td>54</td>\n",
       "      <td>0</td>\n",
       "      <td>1</td>\n",
       "    </tr>\n",
       "    <tr>\n",
       "      <th>Other</th>\n",
       "      <td>32</td>\n",
       "      <td>1</td>\n",
       "      <td>0</td>\n",
       "      <td>128</td>\n",
       "      <td>2</td>\n",
       "      <td>2</td>\n",
       "    </tr>\n",
       "    <tr>\n",
       "      <th>Raining + high winds</th>\n",
       "      <td>39</td>\n",
       "      <td>1</td>\n",
       "      <td>1</td>\n",
       "      <td>103</td>\n",
       "      <td>1</td>\n",
       "      <td>0</td>\n",
       "    </tr>\n",
       "    <tr>\n",
       "      <th>Raining no high winds</th>\n",
       "      <td>191</td>\n",
       "      <td>5</td>\n",
       "      <td>9</td>\n",
       "      <td>634</td>\n",
       "      <td>9</td>\n",
       "      <td>0</td>\n",
       "    </tr>\n",
       "    <tr>\n",
       "      <th>Snowing + high winds</th>\n",
       "      <td>2</td>\n",
       "      <td>0</td>\n",
       "      <td>0</td>\n",
       "      <td>1</td>\n",
       "      <td>0</td>\n",
       "      <td>0</td>\n",
       "    </tr>\n",
       "    <tr>\n",
       "      <th>Snowing no high winds</th>\n",
       "      <td>9</td>\n",
       "      <td>0</td>\n",
       "      <td>1</td>\n",
       "      <td>25</td>\n",
       "      <td>0</td>\n",
       "      <td>1</td>\n",
       "    </tr>\n",
       "    <tr>\n",
       "      <th>unknown weather condition</th>\n",
       "      <td>25</td>\n",
       "      <td>2</td>\n",
       "      <td>2</td>\n",
       "      <td>74</td>\n",
       "      <td>0</td>\n",
       "      <td>4</td>\n",
       "    </tr>\n",
       "  </tbody>\n",
       "</table>\n",
       "</div>"
      ],
      "text/plain": [
       "Road_Type                  Dual carriageway  One way street  Roundabout  \\\n",
       "Weather_Conditions                                                        \n",
       "Fine + high winds                        32               5           5   \n",
       "Fine no high winds                     1461              81         121   \n",
       "Fog or mist                              24               0           3   \n",
       "Other                                    32               1           0   \n",
       "Raining + high winds                     39               1           1   \n",
       "Raining no high winds                   191               5           9   \n",
       "Snowing + high winds                      2               0           0   \n",
       "Snowing no high winds                     9               0           1   \n",
       "unknown weather condition                25               2           2   \n",
       "\n",
       "Road_Type                  Single carriageway  Slip road  unknown road type  \n",
       "Weather_Conditions                                                           \n",
       "Fine + high winds                         133          0                  0  \n",
       "Fine no high winds                       5375         37                 25  \n",
       "Fog or mist                                54          0                  1  \n",
       "Other                                     128          2                  2  \n",
       "Raining + high winds                      103          1                  0  \n",
       "Raining no high winds                     634          9                  0  \n",
       "Snowing + high winds                        1          0                  0  \n",
       "Snowing no high winds                      25          0                  1  \n",
       "unknown weather condition                  74          0                  4  "
      ]
     },
     "execution_count": 39,
     "metadata": {},
     "output_type": "execute_result"
    }
   ],
   "source": [
    "accident[accident['Accident_Severity'] == 'Fatal'].groupby(['Weather_Conditions', 'Road_Type'])['Accident_Severity'].count().unstack()"
   ]
  },
  {
   "cell_type": "markdown",
   "id": "fee8e4a5-06d9-4a53-97fb-e2633954cfbc",
   "metadata": {},
   "source": [
    "<h1>Insight No.21: Fatal accidents are most frequent in fine weather with no high winds, especially on dual carriageways and single carriageways. Raining and snowing conditions lead to fewer fatalities but still show a presence, particularly on single carriageways.</h1>"
   ]
  },
  {
   "cell_type": "markdown",
   "id": "9e9dc49c-5976-47e9-9e8e-6cae67678182",
   "metadata": {},
   "source": [
    "<h1>Question No.22: How do accidents in urban areas with different road surface conditions and vehicle types compare in terms of accident severity?</h1>"
   ]
  },
  {
   "cell_type": "code",
   "execution_count": 40,
   "id": "e40d2ae5-d98b-432e-9fd6-6b2deb3900de",
   "metadata": {},
   "outputs": [
    {
     "data": {
      "text/html": [
       "<div>\n",
       "<style scoped>\n",
       "    .dataframe tbody tr th:only-of-type {\n",
       "        vertical-align: middle;\n",
       "    }\n",
       "\n",
       "    .dataframe tbody tr th {\n",
       "        vertical-align: top;\n",
       "    }\n",
       "\n",
       "    .dataframe thead th {\n",
       "        text-align: right;\n",
       "    }\n",
       "</style>\n",
       "<table border=\"1\" class=\"dataframe\">\n",
       "  <thead>\n",
       "    <tr style=\"text-align: right;\">\n",
       "      <th></th>\n",
       "      <th>Accident_Severity</th>\n",
       "      <th>Fatal</th>\n",
       "      <th>Serious</th>\n",
       "      <th>Slight</th>\n",
       "    </tr>\n",
       "    <tr>\n",
       "      <th>Road_Surface_Conditions</th>\n",
       "      <th>Vehicle_Type</th>\n",
       "      <th></th>\n",
       "      <th></th>\n",
       "      <th></th>\n",
       "    </tr>\n",
       "  </thead>\n",
       "  <tbody>\n",
       "    <tr>\n",
       "      <th rowspan=\"5\" valign=\"top\">Dry</th>\n",
       "      <th>Agricultural vehicle</th>\n",
       "      <td>4</td>\n",
       "      <td>120</td>\n",
       "      <td>766</td>\n",
       "    </tr>\n",
       "    <tr>\n",
       "      <th>Bus or coach (17 or more pass seats)</th>\n",
       "      <td>78</td>\n",
       "      <td>1495</td>\n",
       "      <td>10589</td>\n",
       "    </tr>\n",
       "    <tr>\n",
       "      <th>Car</th>\n",
       "      <td>1616</td>\n",
       "      <td>27907</td>\n",
       "      <td>197376</td>\n",
       "    </tr>\n",
       "    <tr>\n",
       "      <th>Data missing or out of range</th>\n",
       "      <td>0</td>\n",
       "      <td>0</td>\n",
       "      <td>3</td>\n",
       "    </tr>\n",
       "    <tr>\n",
       "      <th>Goods 7.5 tonnes mgw and over</th>\n",
       "      <td>41</td>\n",
       "      <td>995</td>\n",
       "      <td>6912</td>\n",
       "    </tr>\n",
       "    <tr>\n",
       "      <th>...</th>\n",
       "      <th>...</th>\n",
       "      <td>...</td>\n",
       "      <td>...</td>\n",
       "      <td>...</td>\n",
       "    </tr>\n",
       "    <tr>\n",
       "      <th rowspan=\"5\" valign=\"top\">unknown surface condition</th>\n",
       "      <th>Other vehicle</th>\n",
       "      <td>0</td>\n",
       "      <td>1</td>\n",
       "      <td>4</td>\n",
       "    </tr>\n",
       "    <tr>\n",
       "      <th>Pedal cycle</th>\n",
       "      <td>0</td>\n",
       "      <td>0</td>\n",
       "      <td>0</td>\n",
       "    </tr>\n",
       "    <tr>\n",
       "      <th>Ridden horse</th>\n",
       "      <td>0</td>\n",
       "      <td>0</td>\n",
       "      <td>0</td>\n",
       "    </tr>\n",
       "    <tr>\n",
       "      <th>Taxi/Private hire car</th>\n",
       "      <td>0</td>\n",
       "      <td>0</td>\n",
       "      <td>7</td>\n",
       "    </tr>\n",
       "    <tr>\n",
       "      <th>Van / Goods 3.5 tonnes mgw or under</th>\n",
       "      <td>0</td>\n",
       "      <td>4</td>\n",
       "      <td>18</td>\n",
       "    </tr>\n",
       "  </tbody>\n",
       "</table>\n",
       "<p>96 rows × 3 columns</p>\n",
       "</div>"
      ],
      "text/plain": [
       "Accident_Severity                                               Fatal  \\\n",
       "Road_Surface_Conditions   Vehicle_Type                                  \n",
       "Dry                       Agricultural vehicle                      4   \n",
       "                          Bus or coach (17 or more pass seats)     78   \n",
       "                          Car                                    1616   \n",
       "                          Data missing or out of range              0   \n",
       "                          Goods 7.5 tonnes mgw and over            41   \n",
       "...                                                               ...   \n",
       "unknown surface condition Other vehicle                             0   \n",
       "                          Pedal cycle                               0   \n",
       "                          Ridden horse                              0   \n",
       "                          Taxi/Private hire car                     0   \n",
       "                          Van / Goods 3.5 tonnes mgw or under       0   \n",
       "\n",
       "Accident_Severity                                               Serious  \\\n",
       "Road_Surface_Conditions   Vehicle_Type                                    \n",
       "Dry                       Agricultural vehicle                      120   \n",
       "                          Bus or coach (17 or more pass seats)     1495   \n",
       "                          Car                                     27907   \n",
       "                          Data missing or out of range                0   \n",
       "                          Goods 7.5 tonnes mgw and over             995   \n",
       "...                                                                 ...   \n",
       "unknown surface condition Other vehicle                               1   \n",
       "                          Pedal cycle                                 0   \n",
       "                          Ridden horse                                0   \n",
       "                          Taxi/Private hire car                       0   \n",
       "                          Van / Goods 3.5 tonnes mgw or under         4   \n",
       "\n",
       "Accident_Severity                                               Slight  \n",
       "Road_Surface_Conditions   Vehicle_Type                                  \n",
       "Dry                       Agricultural vehicle                     766  \n",
       "                          Bus or coach (17 or more pass seats)   10589  \n",
       "                          Car                                   197376  \n",
       "                          Data missing or out of range               3  \n",
       "                          Goods 7.5 tonnes mgw and over           6912  \n",
       "...                                                                ...  \n",
       "unknown surface condition Other vehicle                              4  \n",
       "                          Pedal cycle                                0  \n",
       "                          Ridden horse                               0  \n",
       "                          Taxi/Private hire car                      7  \n",
       "                          Van / Goods 3.5 tonnes mgw or under       18  \n",
       "\n",
       "[96 rows x 3 columns]"
      ]
     },
     "execution_count": 40,
     "metadata": {},
     "output_type": "execute_result"
    }
   ],
   "source": [
    "accident[(accident['Urban_or_Rural_Area'] == 'Urban')].groupby(['Road_Surface_Conditions', 'Vehicle_Type'])['Accident_Severity'].value_counts().unstack()"
   ]
  },
  {
   "cell_type": "markdown",
   "id": "38e0cdcb-74f4-46c4-9fbc-35c9103442f9",
   "metadata": {},
   "source": [
    "<h1>Insight No.22: In urban areas, cars on wet/damp or dry surfaces have the most serious accidents, while buses and goods vehicles also experience more serious accidents, and agricultural vehicles show fewer severe outcomes.</h1>"
   ]
  },
  {
   "cell_type": "markdown",
   "id": "52582cda-f67a-4571-a974-faf33296dc33",
   "metadata": {},
   "source": [
    "<h1>Question No.23: For serious accidents, how does the number of casualties differ under various weather conditions?</h1>"
   ]
  },
  {
   "cell_type": "code",
   "execution_count": 41,
   "id": "d84065c9-3936-4295-8dfb-30f0de4bf186",
   "metadata": {},
   "outputs": [
    {
     "data": {
      "text/plain": [
       "Weather_Conditions\n",
       "Fine + high winds            1.479518\n",
       "Fine no high winds           1.452322\n",
       "Fog or mist                  1.681159\n",
       "Other                        1.547474\n",
       "Raining + high winds         1.559873\n",
       "Raining no high winds        1.557034\n",
       "Snowing + high winds         1.706422\n",
       "Snowing no high winds        1.511504\n",
       "unknown weather condition    1.303471\n",
       "Name: Number_of_Casualties, dtype: float64"
      ]
     },
     "execution_count": 41,
     "metadata": {},
     "output_type": "execute_result"
    }
   ],
   "source": [
    "accident[accident['Accident_Severity'] == 'Serious'].groupby('Weather_Conditions')['Number_of_Casualties'].mean()"
   ]
  },
  {
   "cell_type": "markdown",
   "id": "08a01916-43f4-463b-9d54-10312850425e",
   "metadata": {},
   "source": [
    "<h1>Insight No.23: Fog and snowing with high winds contribute to the highest number of casualties in serious accidents, while unknown weather conditions lead to fewer casualties.</h1>"
   ]
  },
  {
   "cell_type": "markdown",
   "id": "af1fbf13-ae24-4967-aad7-20188d701a54",
   "metadata": {},
   "source": [
    "<h1>Question No.24: In 2022, how do urban areas compare to rural areas in terms of accident frequency and road types?</h1>"
   ]
  },
  {
   "cell_type": "code",
   "execution_count": 42,
   "id": "1b6a1082-fa10-41de-abda-a7681d5ec3d4",
   "metadata": {},
   "outputs": [
    {
     "data": {
      "text/html": [
       "<div>\n",
       "<style scoped>\n",
       "    .dataframe tbody tr th:only-of-type {\n",
       "        vertical-align: middle;\n",
       "    }\n",
       "\n",
       "    .dataframe tbody tr th {\n",
       "        vertical-align: top;\n",
       "    }\n",
       "\n",
       "    .dataframe thead th {\n",
       "        text-align: right;\n",
       "    }\n",
       "</style>\n",
       "<table border=\"1\" class=\"dataframe\">\n",
       "  <thead>\n",
       "    <tr style=\"text-align: right;\">\n",
       "      <th>Road_Type</th>\n",
       "      <th>Dual carriageway</th>\n",
       "      <th>One way street</th>\n",
       "      <th>Roundabout</th>\n",
       "      <th>Single carriageway</th>\n",
       "      <th>Slip road</th>\n",
       "      <th>unknown road type</th>\n",
       "    </tr>\n",
       "    <tr>\n",
       "      <th>Urban_or_Rural_Area</th>\n",
       "      <th></th>\n",
       "      <th></th>\n",
       "      <th></th>\n",
       "      <th></th>\n",
       "      <th></th>\n",
       "      <th></th>\n",
       "    </tr>\n",
       "  </thead>\n",
       "  <tbody>\n",
       "    <tr>\n",
       "      <th>Rural</th>\n",
       "      <td>10694</td>\n",
       "      <td>239</td>\n",
       "      <td>3530</td>\n",
       "      <td>34784</td>\n",
       "      <td>967</td>\n",
       "      <td>211</td>\n",
       "    </tr>\n",
       "    <tr>\n",
       "      <th>Unallocated</th>\n",
       "      <td>0</td>\n",
       "      <td>0</td>\n",
       "      <td>0</td>\n",
       "      <td>0</td>\n",
       "      <td>0</td>\n",
       "      <td>0</td>\n",
       "    </tr>\n",
       "    <tr>\n",
       "      <th>Urban</th>\n",
       "      <td>10721</td>\n",
       "      <td>2687</td>\n",
       "      <td>6358</td>\n",
       "      <td>73255</td>\n",
       "      <td>569</td>\n",
       "      <td>404</td>\n",
       "    </tr>\n",
       "  </tbody>\n",
       "</table>\n",
       "</div>"
      ],
      "text/plain": [
       "Road_Type            Dual carriageway  One way street  Roundabout  \\\n",
       "Urban_or_Rural_Area                                                 \n",
       "Rural                           10694             239        3530   \n",
       "Unallocated                         0               0           0   \n",
       "Urban                           10721            2687        6358   \n",
       "\n",
       "Road_Type            Single carriageway  Slip road  unknown road type  \n",
       "Urban_or_Rural_Area                                                    \n",
       "Rural                             34784        967                211  \n",
       "Unallocated                           0          0                  0  \n",
       "Urban                             73255        569                404  "
      ]
     },
     "execution_count": 42,
     "metadata": {},
     "output_type": "execute_result"
    }
   ],
   "source": [
    "accident[accident['Year'] == 2022].groupby(['Urban_or_Rural_Area', 'Road_Type']).size().unstack()"
   ]
  },
  {
   "cell_type": "markdown",
   "id": "7f7ed575-9ef2-4ac6-91ae-923c6e104124",
   "metadata": {},
   "source": [
    "<h1>Insight No.24: In 2022, urban areas experience more accidents on single carriageways, one way streets, and roundabouts compared to rural areas, while rural areas see slightly more accidents on dual carriageways.</h1>"
   ]
  },
  {
   "cell_type": "markdown",
   "id": "725e7ca8-22e5-4f1a-86e5-752e4ea4fb2a",
   "metadata": {},
   "source": [
    "<h1>Question No.25: How does the average number of vehicles involved in fatal accidents vary across different road surface conditions?</h1>"
   ]
  },
  {
   "cell_type": "code",
   "execution_count": 43,
   "id": "6aa7b4d1-5242-47ee-b6df-e58c9fd38e8d",
   "metadata": {},
   "outputs": [
    {
     "data": {
      "text/plain": [
       "Road_Surface_Conditions\n",
       "Dry                          1.804423\n",
       "Flood over 3cm. deep         1.782609\n",
       "Frost or ice                 1.756477\n",
       "Snow                         1.600000\n",
       "Wet or damp                  1.753053\n",
       "unknown surface condition    2.000000\n",
       "Name: Number_of_Vehicles, dtype: float64"
      ]
     },
     "execution_count": 43,
     "metadata": {},
     "output_type": "execute_result"
    }
   ],
   "source": [
    "accident[(accident['Accident_Severity'] == 'Fatal')].groupby('Road_Surface_Conditions')['Number_of_Vehicles'].mean()"
   ]
  },
  {
   "cell_type": "markdown",
   "id": "70590ccd-db28-4de8-b1b9-56efae02e339",
   "metadata": {},
   "source": [
    "<h1>Insight No.25: In fatal accidents, unknown surface conditions typically involve more vehicles, while snowy conditions tend to involve fewer vehicles.</h1>"
   ]
  },
  {
   "cell_type": "markdown",
   "id": "fcfa4a70-3624-4393-b83e-1faa12ac623d",
   "metadata": {},
   "source": [
    "<h1>Question No.26: How do the types of vehicles involved in serious accidents vary across different weather conditions?</h1>"
   ]
  },
  {
   "cell_type": "code",
   "execution_count": 44,
   "id": "a9099db5-f20e-47c9-890a-e51c01214826",
   "metadata": {},
   "outputs": [
    {
     "data": {
      "text/html": [
       "<div>\n",
       "<style scoped>\n",
       "    .dataframe tbody tr th:only-of-type {\n",
       "        vertical-align: middle;\n",
       "    }\n",
       "\n",
       "    .dataframe tbody tr th {\n",
       "        vertical-align: top;\n",
       "    }\n",
       "\n",
       "    .dataframe thead th {\n",
       "        text-align: right;\n",
       "    }\n",
       "</style>\n",
       "<table border=\"1\" class=\"dataframe\">\n",
       "  <thead>\n",
       "    <tr style=\"text-align: right;\">\n",
       "      <th></th>\n",
       "      <th>Accident_Severity</th>\n",
       "      <th>Fatal</th>\n",
       "      <th>Serious</th>\n",
       "      <th>Slight</th>\n",
       "    </tr>\n",
       "    <tr>\n",
       "      <th>Vehicle_Type</th>\n",
       "      <th>Weather_Conditions</th>\n",
       "      <th></th>\n",
       "      <th></th>\n",
       "      <th></th>\n",
       "    </tr>\n",
       "  </thead>\n",
       "  <tbody>\n",
       "    <tr>\n",
       "      <th rowspan=\"5\" valign=\"top\">Agricultural vehicle</th>\n",
       "      <th>Fine + high winds</th>\n",
       "      <td>0</td>\n",
       "      <td>4</td>\n",
       "      <td>0</td>\n",
       "    </tr>\n",
       "    <tr>\n",
       "      <th>Fine no high winds</th>\n",
       "      <td>0</td>\n",
       "      <td>214</td>\n",
       "      <td>0</td>\n",
       "    </tr>\n",
       "    <tr>\n",
       "      <th>Fog or mist</th>\n",
       "      <td>0</td>\n",
       "      <td>2</td>\n",
       "      <td>0</td>\n",
       "    </tr>\n",
       "    <tr>\n",
       "      <th>Other</th>\n",
       "      <td>0</td>\n",
       "      <td>6</td>\n",
       "      <td>0</td>\n",
       "    </tr>\n",
       "    <tr>\n",
       "      <th>Raining + high winds</th>\n",
       "      <td>0</td>\n",
       "      <td>6</td>\n",
       "      <td>0</td>\n",
       "    </tr>\n",
       "    <tr>\n",
       "      <th>...</th>\n",
       "      <th>...</th>\n",
       "      <td>...</td>\n",
       "      <td>...</td>\n",
       "      <td>...</td>\n",
       "    </tr>\n",
       "    <tr>\n",
       "      <th rowspan=\"5\" valign=\"top\">Van / Goods 3.5 tonnes mgw or under</th>\n",
       "      <th>Raining + high winds</th>\n",
       "      <td>0</td>\n",
       "      <td>64</td>\n",
       "      <td>0</td>\n",
       "    </tr>\n",
       "    <tr>\n",
       "      <th>Raining no high winds</th>\n",
       "      <td>0</td>\n",
       "      <td>480</td>\n",
       "      <td>0</td>\n",
       "    </tr>\n",
       "    <tr>\n",
       "      <th>Snowing + high winds</th>\n",
       "      <td>0</td>\n",
       "      <td>5</td>\n",
       "      <td>0</td>\n",
       "    </tr>\n",
       "    <tr>\n",
       "      <th>Snowing no high winds</th>\n",
       "      <td>0</td>\n",
       "      <td>32</td>\n",
       "      <td>0</td>\n",
       "    </tr>\n",
       "    <tr>\n",
       "      <th>unknown weather condition</th>\n",
       "      <td>0</td>\n",
       "      <td>63</td>\n",
       "      <td>0</td>\n",
       "    </tr>\n",
       "  </tbody>\n",
       "</table>\n",
       "<p>144 rows × 3 columns</p>\n",
       "</div>"
      ],
      "text/plain": [
       "Accident_Severity                                              Fatal  Serious  \\\n",
       "Vehicle_Type                        Weather_Conditions                          \n",
       "Agricultural vehicle                Fine + high winds              0        4   \n",
       "                                    Fine no high winds             0      214   \n",
       "                                    Fog or mist                    0        2   \n",
       "                                    Other                          0        6   \n",
       "                                    Raining + high winds           0        6   \n",
       "...                                                              ...      ...   \n",
       "Van / Goods 3.5 tonnes mgw or under Raining + high winds           0       64   \n",
       "                                    Raining no high winds          0      480   \n",
       "                                    Snowing + high winds           0        5   \n",
       "                                    Snowing no high winds          0       32   \n",
       "                                    unknown weather condition      0       63   \n",
       "\n",
       "Accident_Severity                                              Slight  \n",
       "Vehicle_Type                        Weather_Conditions                 \n",
       "Agricultural vehicle                Fine + high winds               0  \n",
       "                                    Fine no high winds              0  \n",
       "                                    Fog or mist                     0  \n",
       "                                    Other                           0  \n",
       "                                    Raining + high winds            0  \n",
       "...                                                               ...  \n",
       "Van / Goods 3.5 tonnes mgw or under Raining + high winds            0  \n",
       "                                    Raining no high winds           0  \n",
       "                                    Snowing + high winds            0  \n",
       "                                    Snowing no high winds           0  \n",
       "                                    unknown weather condition       0  \n",
       "\n",
       "[144 rows x 3 columns]"
      ]
     },
     "execution_count": 44,
     "metadata": {},
     "output_type": "execute_result"
    }
   ],
   "source": [
    "accident[(accident['Accident_Severity'] == 'Serious')].groupby(['Vehicle_Type', 'Weather_Conditions'])['Accident_Severity'].value_counts().unstack()"
   ]
  },
  {
   "cell_type": "markdown",
   "id": "47c95d8d-9a01-46b0-b92d-77c31778833d",
   "metadata": {},
   "source": [
    "<h1>Insight No.26: The types of vehicles involved in serious accidents vary significantly with weather conditions, with cars and goods vehicles being the most common across multiple conditions, particularly in wet or foggy weather.</h1>"
   ]
  },
  {
   "cell_type": "markdown",
   "id": "415471d4-4ce4-4fb8-8a57-1021b45bb2e2",
   "metadata": {},
   "source": [
    "<h1>Question No.27: How do light conditions in urban areas compare to rural areas for fatal accidents?</h1>"
   ]
  },
  {
   "cell_type": "code",
   "execution_count": 45,
   "id": "84512d5a-36a0-4409-a412-45a8aeed1a73",
   "metadata": {},
   "outputs": [
    {
     "data": {
      "text/html": [
       "<div>\n",
       "<style scoped>\n",
       "    .dataframe tbody tr th:only-of-type {\n",
       "        vertical-align: middle;\n",
       "    }\n",
       "\n",
       "    .dataframe tbody tr th {\n",
       "        vertical-align: top;\n",
       "    }\n",
       "\n",
       "    .dataframe thead th {\n",
       "        text-align: right;\n",
       "    }\n",
       "</style>\n",
       "<table border=\"1\" class=\"dataframe\">\n",
       "  <thead>\n",
       "    <tr style=\"text-align: right;\">\n",
       "      <th></th>\n",
       "      <th>Accident_Severity</th>\n",
       "      <th>Fatal</th>\n",
       "      <th>Serious</th>\n",
       "      <th>Slight</th>\n",
       "    </tr>\n",
       "    <tr>\n",
       "      <th>Urban_or_Rural_Area</th>\n",
       "      <th>Light_Conditions</th>\n",
       "      <th></th>\n",
       "      <th></th>\n",
       "      <th></th>\n",
       "    </tr>\n",
       "  </thead>\n",
       "  <tbody>\n",
       "    <tr>\n",
       "      <th rowspan=\"5\" valign=\"top\">Rural</th>\n",
       "      <th>Darkness - lighting unknown</th>\n",
       "      <td>41</td>\n",
       "      <td>0</td>\n",
       "      <td>0</td>\n",
       "    </tr>\n",
       "    <tr>\n",
       "      <th>Darkness - lights lit</th>\n",
       "      <td>578</td>\n",
       "      <td>0</td>\n",
       "      <td>0</td>\n",
       "    </tr>\n",
       "    <tr>\n",
       "      <th>Darkness - lights unlit</th>\n",
       "      <td>29</td>\n",
       "      <td>0</td>\n",
       "      <td>0</td>\n",
       "    </tr>\n",
       "    <tr>\n",
       "      <th>Darkness - no lighting</th>\n",
       "      <td>1569</td>\n",
       "      <td>0</td>\n",
       "      <td>0</td>\n",
       "    </tr>\n",
       "    <tr>\n",
       "      <th>Daylight</th>\n",
       "      <td>3384</td>\n",
       "      <td>0</td>\n",
       "      <td>0</td>\n",
       "    </tr>\n",
       "    <tr>\n",
       "      <th rowspan=\"5\" valign=\"top\">Unallocated</th>\n",
       "      <th>Darkness - lighting unknown</th>\n",
       "      <td>0</td>\n",
       "      <td>0</td>\n",
       "      <td>0</td>\n",
       "    </tr>\n",
       "    <tr>\n",
       "      <th>Darkness - lights lit</th>\n",
       "      <td>0</td>\n",
       "      <td>0</td>\n",
       "      <td>0</td>\n",
       "    </tr>\n",
       "    <tr>\n",
       "      <th>Darkness - lights unlit</th>\n",
       "      <td>0</td>\n",
       "      <td>0</td>\n",
       "      <td>0</td>\n",
       "    </tr>\n",
       "    <tr>\n",
       "      <th>Darkness - no lighting</th>\n",
       "      <td>0</td>\n",
       "      <td>0</td>\n",
       "      <td>0</td>\n",
       "    </tr>\n",
       "    <tr>\n",
       "      <th>Daylight</th>\n",
       "      <td>0</td>\n",
       "      <td>0</td>\n",
       "      <td>0</td>\n",
       "    </tr>\n",
       "    <tr>\n",
       "      <th rowspan=\"5\" valign=\"top\">Urban</th>\n",
       "      <th>Darkness - lighting unknown</th>\n",
       "      <td>27</td>\n",
       "      <td>0</td>\n",
       "      <td>0</td>\n",
       "    </tr>\n",
       "    <tr>\n",
       "      <th>Darkness - lights lit</th>\n",
       "      <td>1282</td>\n",
       "      <td>0</td>\n",
       "      <td>0</td>\n",
       "    </tr>\n",
       "    <tr>\n",
       "      <th>Darkness - lights unlit</th>\n",
       "      <td>16</td>\n",
       "      <td>0</td>\n",
       "      <td>0</td>\n",
       "    </tr>\n",
       "    <tr>\n",
       "      <th>Darkness - no lighting</th>\n",
       "      <td>43</td>\n",
       "      <td>0</td>\n",
       "      <td>0</td>\n",
       "    </tr>\n",
       "    <tr>\n",
       "      <th>Daylight</th>\n",
       "      <td>1692</td>\n",
       "      <td>0</td>\n",
       "      <td>0</td>\n",
       "    </tr>\n",
       "  </tbody>\n",
       "</table>\n",
       "</div>"
      ],
      "text/plain": [
       "Accident_Severity                                Fatal  Serious  Slight\n",
       "Urban_or_Rural_Area Light_Conditions                                   \n",
       "Rural               Darkness - lighting unknown     41        0       0\n",
       "                    Darkness - lights lit          578        0       0\n",
       "                    Darkness - lights unlit         29        0       0\n",
       "                    Darkness - no lighting        1569        0       0\n",
       "                    Daylight                      3384        0       0\n",
       "Unallocated         Darkness - lighting unknown      0        0       0\n",
       "                    Darkness - lights lit            0        0       0\n",
       "                    Darkness - lights unlit          0        0       0\n",
       "                    Darkness - no lighting           0        0       0\n",
       "                    Daylight                         0        0       0\n",
       "Urban               Darkness - lighting unknown     27        0       0\n",
       "                    Darkness - lights lit         1282        0       0\n",
       "                    Darkness - lights unlit         16        0       0\n",
       "                    Darkness - no lighting          43        0       0\n",
       "                    Daylight                      1692        0       0"
      ]
     },
     "execution_count": 45,
     "metadata": {},
     "output_type": "execute_result"
    }
   ],
   "source": [
    "accident[(accident['Accident_Severity'] == 'Fatal')].groupby(['Urban_or_Rural_Area', 'Light_Conditions'])['Accident_Severity'].value_counts().unstack()"
   ]
  },
  {
   "cell_type": "markdown",
   "id": "e2021b6f-3400-4a12-98ff-577472dcdae9",
   "metadata": {},
   "source": [
    "<h1>Insight No.27: In fatal accidents, rural areas experience more fatalities in darkness with no lighting, while urban areas have more fatalities under lit darkness conditions.</h1>"
   ]
  },
  {
   "cell_type": "markdown",
   "id": "0954d5ee-89aa-4848-b008-aa24d6487645",
   "metadata": {},
   "source": [
    "<h1>Question No.28: How does the number of casualties differ by road type and weather conditions?</h1>"
   ]
  },
  {
   "cell_type": "code",
   "execution_count": 46,
   "id": "1e252f1e-d697-4411-9a6a-f3c8674250e8",
   "metadata": {},
   "outputs": [
    {
     "data": {
      "text/plain": [
       "Road_Type           Weather_Conditions       \n",
       "Dual carriageway    Fine + high winds            1.442396\n",
       "                    Fine no high winds           1.477963\n",
       "                    Fog or mist                  1.665689\n",
       "                    Other                        1.433746\n",
       "                    Raining + high winds         1.475652\n",
       "                    Raining no high winds        1.502453\n",
       "                    Snowing + high winds         1.389189\n",
       "                    Snowing no high winds        1.399020\n",
       "                    unknown weather condition    1.330494\n",
       "One way street      Fine + high winds            1.183544\n",
       "                    Fine no high winds           1.185132\n",
       "                    Fog or mist                  1.241379\n",
       "                    Other                        1.233010\n",
       "                    Raining + high winds         1.307190\n",
       "                    Raining no high winds        1.242127\n",
       "                    Snowing + high winds         1.071429\n",
       "                    Snowing no high winds        1.230769\n",
       "                    unknown weather condition    1.138554\n",
       "Roundabout          Fine + high winds            1.333333\n",
       "                    Fine no high winds           1.272536\n",
       "                    Fog or mist                  1.319820\n",
       "                    Other                        1.269612\n",
       "                    Raining + high winds         1.253996\n",
       "                    Raining no high winds        1.292500\n",
       "                    Snowing + high winds         1.533333\n",
       "                    Snowing no high winds        1.317241\n",
       "                    unknown weather condition    1.228758\n",
       "Single carriageway  Fine + high winds            1.384105\n",
       "                    Fine no high winds           1.336726\n",
       "                    Fog or mist                  1.410075\n",
       "                    Other                        1.351779\n",
       "                    Raining + high winds         1.415486\n",
       "                    Raining no high winds        1.401444\n",
       "                    Snowing + high winds         1.426791\n",
       "                    Snowing no high winds        1.334035\n",
       "                    unknown weather condition    1.220572\n",
       "Slip road           Fine + high winds            1.357798\n",
       "                    Fine no high winds           1.421014\n",
       "                    Fog or mist                  1.393939\n",
       "                    Other                        1.455556\n",
       "                    Raining + high winds         1.429907\n",
       "                    Raining no high winds        1.482081\n",
       "                    Snowing + high winds         1.300000\n",
       "                    Snowing no high winds        1.231884\n",
       "                    unknown weather condition    1.290541\n",
       "unknown road type   Fine + high winds            1.180000\n",
       "                    Fine no high winds           1.245941\n",
       "                    Fog or mist                  1.523810\n",
       "                    Other                        1.174242\n",
       "                    Raining + high winds         1.321429\n",
       "                    Raining no high winds        1.313953\n",
       "                    Snowing + high winds         2.000000\n",
       "                    Snowing no high winds        1.400000\n",
       "                    unknown weather condition    1.219512\n",
       "Name: Number_of_Casualties, dtype: float64"
      ]
     },
     "execution_count": 46,
     "metadata": {},
     "output_type": "execute_result"
    }
   ],
   "source": [
    "accident.groupby(['Road_Type', 'Weather_Conditions'])['Number_of_Casualties'].mean()"
   ]
  },
  {
   "cell_type": "markdown",
   "id": "1da5caab-e5b0-4db8-a50e-d482f993d565",
   "metadata": {},
   "source": [
    "<h1>Insight No.28: Accident severity, in terms of casualties, tends to be higher on dual carriageways in poor weather conditions like raining and fog. Meanwhile, one-way streets typically have fewer casualties across all weather conditions.</h1>"
   ]
  },
  {
   "cell_type": "markdown",
   "id": "7e325df2-d559-4d67-b25f-a357bf6af6be",
   "metadata": {},
   "source": [
    "<h1>Question No.29: How does the type of vehicle involved in fatal accidents affect the road surface conditions?</h1>"
   ]
  },
  {
   "cell_type": "code",
   "execution_count": 47,
   "id": "1e16213d-4299-4742-81ff-1b0d2c5edc8b",
   "metadata": {},
   "outputs": [
    {
     "data": {
      "text/html": [
       "<div>\n",
       "<style scoped>\n",
       "    .dataframe tbody tr th:only-of-type {\n",
       "        vertical-align: middle;\n",
       "    }\n",
       "\n",
       "    .dataframe tbody tr th {\n",
       "        vertical-align: top;\n",
       "    }\n",
       "\n",
       "    .dataframe thead th {\n",
       "        text-align: right;\n",
       "    }\n",
       "</style>\n",
       "<table border=\"1\" class=\"dataframe\">\n",
       "  <thead>\n",
       "    <tr style=\"text-align: right;\">\n",
       "      <th></th>\n",
       "      <th>Accident_Severity</th>\n",
       "      <th>Fatal</th>\n",
       "      <th>Serious</th>\n",
       "      <th>Slight</th>\n",
       "    </tr>\n",
       "    <tr>\n",
       "      <th>Vehicle_Type</th>\n",
       "      <th>Road_Surface_Conditions</th>\n",
       "      <th></th>\n",
       "      <th></th>\n",
       "      <th></th>\n",
       "    </tr>\n",
       "  </thead>\n",
       "  <tbody>\n",
       "    <tr>\n",
       "      <th rowspan=\"5\" valign=\"top\">Agricultural vehicle</th>\n",
       "      <th>Dry</th>\n",
       "      <td>13</td>\n",
       "      <td>0</td>\n",
       "      <td>0</td>\n",
       "    </tr>\n",
       "    <tr>\n",
       "      <th>Flood over 3cm. deep</th>\n",
       "      <td>1</td>\n",
       "      <td>0</td>\n",
       "      <td>0</td>\n",
       "    </tr>\n",
       "    <tr>\n",
       "      <th>Frost or ice</th>\n",
       "      <td>0</td>\n",
       "      <td>0</td>\n",
       "      <td>0</td>\n",
       "    </tr>\n",
       "    <tr>\n",
       "      <th>Snow</th>\n",
       "      <td>0</td>\n",
       "      <td>0</td>\n",
       "      <td>0</td>\n",
       "    </tr>\n",
       "    <tr>\n",
       "      <th>Wet or damp</th>\n",
       "      <td>7</td>\n",
       "      <td>0</td>\n",
       "      <td>0</td>\n",
       "    </tr>\n",
       "    <tr>\n",
       "      <th>...</th>\n",
       "      <th>...</th>\n",
       "      <td>...</td>\n",
       "      <td>...</td>\n",
       "      <td>...</td>\n",
       "    </tr>\n",
       "    <tr>\n",
       "      <th rowspan=\"5\" valign=\"top\">Van / Goods 3.5 tonnes mgw or under</th>\n",
       "      <th>Flood over 3cm. deep</th>\n",
       "      <td>0</td>\n",
       "      <td>0</td>\n",
       "      <td>0</td>\n",
       "    </tr>\n",
       "    <tr>\n",
       "      <th>Frost or ice</th>\n",
       "      <td>14</td>\n",
       "      <td>0</td>\n",
       "      <td>0</td>\n",
       "    </tr>\n",
       "    <tr>\n",
       "      <th>Snow</th>\n",
       "      <td>3</td>\n",
       "      <td>0</td>\n",
       "      <td>0</td>\n",
       "    </tr>\n",
       "    <tr>\n",
       "      <th>Wet or damp</th>\n",
       "      <td>139</td>\n",
       "      <td>0</td>\n",
       "      <td>0</td>\n",
       "    </tr>\n",
       "    <tr>\n",
       "      <th>unknown surface condition</th>\n",
       "      <td>0</td>\n",
       "      <td>0</td>\n",
       "      <td>0</td>\n",
       "    </tr>\n",
       "  </tbody>\n",
       "</table>\n",
       "<p>96 rows × 3 columns</p>\n",
       "</div>"
      ],
      "text/plain": [
       "Accident_Severity                                              Fatal  Serious  \\\n",
       "Vehicle_Type                        Road_Surface_Conditions                     \n",
       "Agricultural vehicle                Dry                           13        0   \n",
       "                                    Flood over 3cm. deep           1        0   \n",
       "                                    Frost or ice                   0        0   \n",
       "                                    Snow                           0        0   \n",
       "                                    Wet or damp                    7        0   \n",
       "...                                                              ...      ...   \n",
       "Van / Goods 3.5 tonnes mgw or under Flood over 3cm. deep           0        0   \n",
       "                                    Frost or ice                  14        0   \n",
       "                                    Snow                           3        0   \n",
       "                                    Wet or damp                  139        0   \n",
       "                                    unknown surface condition      0        0   \n",
       "\n",
       "Accident_Severity                                              Slight  \n",
       "Vehicle_Type                        Road_Surface_Conditions            \n",
       "Agricultural vehicle                Dry                             0  \n",
       "                                    Flood over 3cm. deep            0  \n",
       "                                    Frost or ice                    0  \n",
       "                                    Snow                            0  \n",
       "                                    Wet or damp                     0  \n",
       "...                                                               ...  \n",
       "Van / Goods 3.5 tonnes mgw or under Flood over 3cm. deep            0  \n",
       "                                    Frost or ice                    0  \n",
       "                                    Snow                            0  \n",
       "                                    Wet or damp                     0  \n",
       "                                    unknown surface condition       0  \n",
       "\n",
       "[96 rows x 3 columns]"
      ]
     },
     "execution_count": 47,
     "metadata": {},
     "output_type": "execute_result"
    }
   ],
   "source": [
    "accident[(accident['Accident_Severity'] == 'Fatal')].groupby(['Vehicle_Type', 'Road_Surface_Conditions'])['Accident_Severity'].value_counts().unstack()"
   ]
  },
  {
   "cell_type": "markdown",
   "id": "6c781234-33cd-4a07-8d19-33619b01cf5c",
   "metadata": {},
   "source": [
    "<h1>Insight No.29: In fatal accidents, agricultural vehicles primarily occur on dry or wet surfaces, while vans and goods vehicles are more likely to be involved in accidents on wet, damp, or icy roads.</h1>"
   ]
  },
  {
   "cell_type": "markdown",
   "id": "5b9004c7-b987-4232-8a5c-e360046eb2eb",
   "metadata": {},
   "source": [
    "<h1>Question No.30: In 2019, how do light conditions affect the number of casualties in accidents?</h1>"
   ]
  },
  {
   "cell_type": "code",
   "execution_count": 48,
   "id": "e5d924c3-81a5-4033-b2ef-b4644027f417",
   "metadata": {},
   "outputs": [
    {
     "data": {
      "text/plain": [
       "Light_Conditions\n",
       "Darkness - lighting unknown    1.304299\n",
       "Darkness - lights lit          1.374514\n",
       "Darkness - lights unlit        1.342939\n",
       "Darkness - no lighting         1.547224\n",
       "Daylight                       1.342448\n",
       "Name: Number_of_Casualties, dtype: float64"
      ]
     },
     "execution_count": 48,
     "metadata": {},
     "output_type": "execute_result"
    }
   ],
   "source": [
    "accident[(accident['Year'] == 2019)].groupby(['Light_Conditions'])['Number_of_Casualties'].mean()"
   ]
  },
  {
   "cell_type": "markdown",
   "id": "4547718c-2d29-4350-85ef-8bbc5e56225d",
   "metadata": {},
   "source": [
    "<h1>Insight No.30: In 2019, accidents occurring in darkness with no lighting had the highest average number of casualties, while daylight and accidents with lit or unlit lights had slightly lower casualty averages.</h1>"
   ]
  },
  {
   "cell_type": "code",
   "execution_count": null,
   "id": "09541327-677e-48d3-97ab-a51bfd51889a",
   "metadata": {},
   "outputs": [],
   "source": []
  },
  {
   "cell_type": "markdown",
   "id": "5705f2b6-ab12-4009-b20e-29dbd775cbfa",
   "metadata": {},
   "source": [
    "<h1>Question No.: Is there correlation between Number of vehicles and Number of Casualties?</h1>"
   ]
  },
  {
   "cell_type": "code",
   "execution_count": 49,
   "id": "561c0c16-d634-4de5-9ea5-14a3ecf62165",
   "metadata": {
    "scrolled": true
   },
   "outputs": [
    {
     "data": {
      "text/plain": [
       "0.22888886126927627"
      ]
     },
     "execution_count": 49,
     "metadata": {},
     "output_type": "execute_result"
    }
   ],
   "source": [
    "accident['Number_of_Vehicles'].corr(accident['Number_of_Casualties'])"
   ]
  },
  {
   "cell_type": "markdown",
   "id": "b5bfd0df-ba70-4889-8034-f971da213000",
   "metadata": {},
   "source": [
    "<h1>Insight No.: There is no correlation between Number of vehicles and Number of Casualties</h1>"
   ]
  },
  {
   "cell_type": "markdown",
   "id": "83d251aa-dfac-4aa6-8e57-cfa7444a3018",
   "metadata": {},
   "source": [
    "<h1>Question No.: </h1>"
   ]
  },
  {
   "cell_type": "code",
   "execution_count": 50,
   "id": "49a8f16b-a7a9-4752-8bac-b7a36850f897",
   "metadata": {},
   "outputs": [
    {
     "data": {
      "text/plain": [
       "0.0032184502191281465"
      ]
     },
     "execution_count": 50,
     "metadata": {},
     "output_type": "execute_result"
    }
   ],
   "source": [
    "accident['Month'].corr(accident['Number_of_Casualties'])"
   ]
  },
  {
   "cell_type": "code",
   "execution_count": 51,
   "id": "b56027db-e7eb-4d66-b99f-1b8ee91dfe55",
   "metadata": {},
   "outputs": [
    {
     "data": {
      "text/plain": [
       "0.0032184502191281465"
      ]
     },
     "execution_count": 51,
     "metadata": {},
     "output_type": "execute_result"
    }
   ],
   "source": [
    "accident['Month'].corr(accident['Number_of_Casualties'])"
   ]
  },
  {
   "cell_type": "code",
   "execution_count": 52,
   "id": "1773c25b-67bd-4739-bfa1-764141cad4c4",
   "metadata": {},
   "outputs": [
    {
     "data": {
      "text/plain": [
       "0.0016502945894125048"
      ]
     },
     "execution_count": 52,
     "metadata": {},
     "output_type": "execute_result"
    }
   ],
   "source": [
    "accident['Day'].corr(accident['Number_of_Vehicles'])"
   ]
  },
  {
   "cell_type": "code",
   "execution_count": 53,
   "id": "9675ab16-65fb-4c7e-b002-9c8b71216056",
   "metadata": {},
   "outputs": [
    {
     "data": {
      "text/plain": [
       "0.006787175440893232"
      ]
     },
     "execution_count": 53,
     "metadata": {},
     "output_type": "execute_result"
    }
   ],
   "source": [
    "accident['Day'].corr(accident['Number_of_Casualties'])"
   ]
  },
  {
   "cell_type": "markdown",
   "id": "5fa5900d-48d7-4bee-869f-57404240ba1d",
   "metadata": {},
   "source": [
    "<h1>Question No.: How does the accident severity for different vehicle types differ between rural and urban areas in 2019?</h1>"
   ]
  },
  {
   "cell_type": "code",
   "execution_count": 54,
   "id": "d4a8e2c4-c960-4163-83bc-f2f75642b360",
   "metadata": {},
   "outputs": [],
   "source": [
    "df_2019 = accident[accident['Year'] == 2019]"
   ]
  },
  {
   "cell_type": "code",
   "execution_count": 55,
   "id": "3c62c012-91eb-4dd0-b796-f2388e9f6545",
   "metadata": {},
   "outputs": [
    {
     "data": {
      "text/html": [
       "<div>\n",
       "<style scoped>\n",
       "    .dataframe tbody tr th:only-of-type {\n",
       "        vertical-align: middle;\n",
       "    }\n",
       "\n",
       "    .dataframe tbody tr th {\n",
       "        vertical-align: top;\n",
       "    }\n",
       "\n",
       "    .dataframe thead th {\n",
       "        text-align: right;\n",
       "    }\n",
       "</style>\n",
       "<table border=\"1\" class=\"dataframe\">\n",
       "  <thead>\n",
       "    <tr style=\"text-align: right;\">\n",
       "      <th></th>\n",
       "      <th>Accident_Severity</th>\n",
       "      <th>Fatal</th>\n",
       "      <th>Serious</th>\n",
       "      <th>Slight</th>\n",
       "    </tr>\n",
       "    <tr>\n",
       "      <th>Vehicle_Type</th>\n",
       "      <th>Urban_or_Rural_Area</th>\n",
       "      <th></th>\n",
       "      <th></th>\n",
       "      <th></th>\n",
       "    </tr>\n",
       "  </thead>\n",
       "  <tbody>\n",
       "    <tr>\n",
       "      <th rowspan=\"3\" valign=\"top\">Agricultural vehicle</th>\n",
       "      <th>Rural</th>\n",
       "      <td>6</td>\n",
       "      <td>42</td>\n",
       "      <td>184</td>\n",
       "    </tr>\n",
       "    <tr>\n",
       "      <th>Unallocated</th>\n",
       "      <td>0</td>\n",
       "      <td>0</td>\n",
       "      <td>0</td>\n",
       "    </tr>\n",
       "    <tr>\n",
       "      <th>Urban</th>\n",
       "      <td>1</td>\n",
       "      <td>61</td>\n",
       "      <td>342</td>\n",
       "    </tr>\n",
       "    <tr>\n",
       "      <th rowspan=\"3\" valign=\"top\">Bus or coach (17 or more pass seats)</th>\n",
       "      <th>Rural</th>\n",
       "      <td>105</td>\n",
       "      <td>556</td>\n",
       "      <td>3011</td>\n",
       "    </tr>\n",
       "    <tr>\n",
       "      <th>Unallocated</th>\n",
       "      <td>0</td>\n",
       "      <td>0</td>\n",
       "      <td>2</td>\n",
       "    </tr>\n",
       "    <tr>\n",
       "      <th>Urban</th>\n",
       "      <td>47</td>\n",
       "      <td>840</td>\n",
       "      <td>5922</td>\n",
       "    </tr>\n",
       "    <tr>\n",
       "      <th rowspan=\"3\" valign=\"top\">Car</th>\n",
       "      <th>Rural</th>\n",
       "      <td>1278</td>\n",
       "      <td>7550</td>\n",
       "      <td>40153</td>\n",
       "    </tr>\n",
       "    <tr>\n",
       "      <th>Unallocated</th>\n",
       "      <td>0</td>\n",
       "      <td>0</td>\n",
       "      <td>3</td>\n",
       "    </tr>\n",
       "    <tr>\n",
       "      <th>Urban</th>\n",
       "      <td>670</td>\n",
       "      <td>9919</td>\n",
       "      <td>70731</td>\n",
       "    </tr>\n",
       "    <tr>\n",
       "      <th rowspan=\"3\" valign=\"top\">Data missing or out of range</th>\n",
       "      <th>Rural</th>\n",
       "      <td>0</td>\n",
       "      <td>0</td>\n",
       "      <td>0</td>\n",
       "    </tr>\n",
       "    <tr>\n",
       "      <th>Unallocated</th>\n",
       "      <td>0</td>\n",
       "      <td>0</td>\n",
       "      <td>0</td>\n",
       "    </tr>\n",
       "    <tr>\n",
       "      <th>Urban</th>\n",
       "      <td>0</td>\n",
       "      <td>0</td>\n",
       "      <td>0</td>\n",
       "    </tr>\n",
       "    <tr>\n",
       "      <th rowspan=\"3\" valign=\"top\">Goods 7.5 tonnes mgw and over</th>\n",
       "      <th>Rural</th>\n",
       "      <td>74</td>\n",
       "      <td>327</td>\n",
       "      <td>1929</td>\n",
       "    </tr>\n",
       "    <tr>\n",
       "      <th>Unallocated</th>\n",
       "      <td>0</td>\n",
       "      <td>0</td>\n",
       "      <td>0</td>\n",
       "    </tr>\n",
       "    <tr>\n",
       "      <th>Urban</th>\n",
       "      <td>32</td>\n",
       "      <td>492</td>\n",
       "      <td>3393</td>\n",
       "    </tr>\n",
       "    <tr>\n",
       "      <th rowspan=\"3\" valign=\"top\">Goods over 3.5t. and under 7.5t</th>\n",
       "      <th>Rural</th>\n",
       "      <td>17</td>\n",
       "      <td>130</td>\n",
       "      <td>647</td>\n",
       "    </tr>\n",
       "    <tr>\n",
       "      <th>Unallocated</th>\n",
       "      <td>0</td>\n",
       "      <td>0</td>\n",
       "      <td>0</td>\n",
       "    </tr>\n",
       "    <tr>\n",
       "      <th>Urban</th>\n",
       "      <td>9</td>\n",
       "      <td>155</td>\n",
       "      <td>1091</td>\n",
       "    </tr>\n",
       "    <tr>\n",
       "      <th rowspan=\"3\" valign=\"top\">Minibus (8 - 16 passenger seats)</th>\n",
       "      <th>Rural</th>\n",
       "      <td>8</td>\n",
       "      <td>37</td>\n",
       "      <td>189</td>\n",
       "    </tr>\n",
       "    <tr>\n",
       "      <th>Unallocated</th>\n",
       "      <td>0</td>\n",
       "      <td>0</td>\n",
       "      <td>0</td>\n",
       "    </tr>\n",
       "    <tr>\n",
       "      <th>Urban</th>\n",
       "      <td>3</td>\n",
       "      <td>49</td>\n",
       "      <td>339</td>\n",
       "    </tr>\n",
       "    <tr>\n",
       "      <th rowspan=\"3\" valign=\"top\">Motorcycle 125cc and under</th>\n",
       "      <th>Rural</th>\n",
       "      <td>44</td>\n",
       "      <td>204</td>\n",
       "      <td>1194</td>\n",
       "    </tr>\n",
       "    <tr>\n",
       "      <th>Unallocated</th>\n",
       "      <td>0</td>\n",
       "      <td>0</td>\n",
       "      <td>0</td>\n",
       "    </tr>\n",
       "    <tr>\n",
       "      <th>Urban</th>\n",
       "      <td>32</td>\n",
       "      <td>340</td>\n",
       "      <td>2499</td>\n",
       "    </tr>\n",
       "    <tr>\n",
       "      <th rowspan=\"3\" valign=\"top\">Motorcycle 50cc and under</th>\n",
       "      <th>Rural</th>\n",
       "      <td>15</td>\n",
       "      <td>120</td>\n",
       "      <td>655</td>\n",
       "    </tr>\n",
       "    <tr>\n",
       "      <th>Unallocated</th>\n",
       "      <td>0</td>\n",
       "      <td>0</td>\n",
       "      <td>0</td>\n",
       "    </tr>\n",
       "    <tr>\n",
       "      <th>Urban</th>\n",
       "      <td>20</td>\n",
       "      <td>150</td>\n",
       "      <td>1176</td>\n",
       "    </tr>\n",
       "    <tr>\n",
       "      <th rowspan=\"3\" valign=\"top\">Motorcycle over 125cc and up to 500cc</th>\n",
       "      <th>Rural</th>\n",
       "      <td>21</td>\n",
       "      <td>133</td>\n",
       "      <td>711</td>\n",
       "    </tr>\n",
       "    <tr>\n",
       "      <th>Unallocated</th>\n",
       "      <td>0</td>\n",
       "      <td>0</td>\n",
       "      <td>0</td>\n",
       "    </tr>\n",
       "    <tr>\n",
       "      <th>Urban</th>\n",
       "      <td>16</td>\n",
       "      <td>209</td>\n",
       "      <td>1356</td>\n",
       "    </tr>\n",
       "    <tr>\n",
       "      <th rowspan=\"3\" valign=\"top\">Motorcycle over 500cc</th>\n",
       "      <th>Rural</th>\n",
       "      <td>71</td>\n",
       "      <td>414</td>\n",
       "      <td>2260</td>\n",
       "    </tr>\n",
       "    <tr>\n",
       "      <th>Unallocated</th>\n",
       "      <td>0</td>\n",
       "      <td>0</td>\n",
       "      <td>0</td>\n",
       "    </tr>\n",
       "    <tr>\n",
       "      <th>Urban</th>\n",
       "      <td>36</td>\n",
       "      <td>638</td>\n",
       "      <td>4267</td>\n",
       "    </tr>\n",
       "    <tr>\n",
       "      <th rowspan=\"3\" valign=\"top\">Other vehicle</th>\n",
       "      <th>Rural</th>\n",
       "      <td>11</td>\n",
       "      <td>86</td>\n",
       "      <td>509</td>\n",
       "    </tr>\n",
       "    <tr>\n",
       "      <th>Unallocated</th>\n",
       "      <td>0</td>\n",
       "      <td>0</td>\n",
       "      <td>0</td>\n",
       "    </tr>\n",
       "    <tr>\n",
       "      <th>Urban</th>\n",
       "      <td>4</td>\n",
       "      <td>108</td>\n",
       "      <td>870</td>\n",
       "    </tr>\n",
       "    <tr>\n",
       "      <th rowspan=\"3\" valign=\"top\">Pedal cycle</th>\n",
       "      <th>Rural</th>\n",
       "      <td>3</td>\n",
       "      <td>3</td>\n",
       "      <td>20</td>\n",
       "    </tr>\n",
       "    <tr>\n",
       "      <th>Unallocated</th>\n",
       "      <td>0</td>\n",
       "      <td>0</td>\n",
       "      <td>0</td>\n",
       "    </tr>\n",
       "    <tr>\n",
       "      <th>Urban</th>\n",
       "      <td>1</td>\n",
       "      <td>5</td>\n",
       "      <td>36</td>\n",
       "    </tr>\n",
       "    <tr>\n",
       "      <th rowspan=\"3\" valign=\"top\">Ridden horse</th>\n",
       "      <th>Rural</th>\n",
       "      <td>0</td>\n",
       "      <td>0</td>\n",
       "      <td>1</td>\n",
       "    </tr>\n",
       "    <tr>\n",
       "      <th>Unallocated</th>\n",
       "      <td>0</td>\n",
       "      <td>0</td>\n",
       "      <td>0</td>\n",
       "    </tr>\n",
       "    <tr>\n",
       "      <th>Urban</th>\n",
       "      <td>0</td>\n",
       "      <td>0</td>\n",
       "      <td>0</td>\n",
       "    </tr>\n",
       "    <tr>\n",
       "      <th rowspan=\"3\" valign=\"top\">Taxi/Private hire car</th>\n",
       "      <th>Rural</th>\n",
       "      <td>28</td>\n",
       "      <td>210</td>\n",
       "      <td>1227</td>\n",
       "    </tr>\n",
       "    <tr>\n",
       "      <th>Unallocated</th>\n",
       "      <td>0</td>\n",
       "      <td>0</td>\n",
       "      <td>0</td>\n",
       "    </tr>\n",
       "    <tr>\n",
       "      <th>Urban</th>\n",
       "      <td>22</td>\n",
       "      <td>329</td>\n",
       "      <td>2414</td>\n",
       "    </tr>\n",
       "    <tr>\n",
       "      <th rowspan=\"3\" valign=\"top\">Van / Goods 3.5 tonnes mgw or under</th>\n",
       "      <th>Rural</th>\n",
       "      <td>92</td>\n",
       "      <td>498</td>\n",
       "      <td>2785</td>\n",
       "    </tr>\n",
       "    <tr>\n",
       "      <th>Unallocated</th>\n",
       "      <td>0</td>\n",
       "      <td>0</td>\n",
       "      <td>0</td>\n",
       "    </tr>\n",
       "    <tr>\n",
       "      <th>Urban</th>\n",
       "      <td>48</td>\n",
       "      <td>717</td>\n",
       "      <td>5163</td>\n",
       "    </tr>\n",
       "  </tbody>\n",
       "</table>\n",
       "</div>"
      ],
      "text/plain": [
       "Accident_Severity                                          Fatal  Serious  \\\n",
       "Vehicle_Type                          Urban_or_Rural_Area                   \n",
       "Agricultural vehicle                  Rural                    6       42   \n",
       "                                      Unallocated              0        0   \n",
       "                                      Urban                    1       61   \n",
       "Bus or coach (17 or more pass seats)  Rural                  105      556   \n",
       "                                      Unallocated              0        0   \n",
       "                                      Urban                   47      840   \n",
       "Car                                   Rural                 1278     7550   \n",
       "                                      Unallocated              0        0   \n",
       "                                      Urban                  670     9919   \n",
       "Data missing or out of range          Rural                    0        0   \n",
       "                                      Unallocated              0        0   \n",
       "                                      Urban                    0        0   \n",
       "Goods 7.5 tonnes mgw and over         Rural                   74      327   \n",
       "                                      Unallocated              0        0   \n",
       "                                      Urban                   32      492   \n",
       "Goods over 3.5t. and under 7.5t       Rural                   17      130   \n",
       "                                      Unallocated              0        0   \n",
       "                                      Urban                    9      155   \n",
       "Minibus (8 - 16 passenger seats)      Rural                    8       37   \n",
       "                                      Unallocated              0        0   \n",
       "                                      Urban                    3       49   \n",
       "Motorcycle 125cc and under            Rural                   44      204   \n",
       "                                      Unallocated              0        0   \n",
       "                                      Urban                   32      340   \n",
       "Motorcycle 50cc and under             Rural                   15      120   \n",
       "                                      Unallocated              0        0   \n",
       "                                      Urban                   20      150   \n",
       "Motorcycle over 125cc and up to 500cc Rural                   21      133   \n",
       "                                      Unallocated              0        0   \n",
       "                                      Urban                   16      209   \n",
       "Motorcycle over 500cc                 Rural                   71      414   \n",
       "                                      Unallocated              0        0   \n",
       "                                      Urban                   36      638   \n",
       "Other vehicle                         Rural                   11       86   \n",
       "                                      Unallocated              0        0   \n",
       "                                      Urban                    4      108   \n",
       "Pedal cycle                           Rural                    3        3   \n",
       "                                      Unallocated              0        0   \n",
       "                                      Urban                    1        5   \n",
       "Ridden horse                          Rural                    0        0   \n",
       "                                      Unallocated              0        0   \n",
       "                                      Urban                    0        0   \n",
       "Taxi/Private hire car                 Rural                   28      210   \n",
       "                                      Unallocated              0        0   \n",
       "                                      Urban                   22      329   \n",
       "Van / Goods 3.5 tonnes mgw or under   Rural                   92      498   \n",
       "                                      Unallocated              0        0   \n",
       "                                      Urban                   48      717   \n",
       "\n",
       "Accident_Severity                                          Slight  \n",
       "Vehicle_Type                          Urban_or_Rural_Area          \n",
       "Agricultural vehicle                  Rural                   184  \n",
       "                                      Unallocated               0  \n",
       "                                      Urban                   342  \n",
       "Bus or coach (17 or more pass seats)  Rural                  3011  \n",
       "                                      Unallocated               2  \n",
       "                                      Urban                  5922  \n",
       "Car                                   Rural                 40153  \n",
       "                                      Unallocated               3  \n",
       "                                      Urban                 70731  \n",
       "Data missing or out of range          Rural                     0  \n",
       "                                      Unallocated               0  \n",
       "                                      Urban                     0  \n",
       "Goods 7.5 tonnes mgw and over         Rural                  1929  \n",
       "                                      Unallocated               0  \n",
       "                                      Urban                  3393  \n",
       "Goods over 3.5t. and under 7.5t       Rural                   647  \n",
       "                                      Unallocated               0  \n",
       "                                      Urban                  1091  \n",
       "Minibus (8 - 16 passenger seats)      Rural                   189  \n",
       "                                      Unallocated               0  \n",
       "                                      Urban                   339  \n",
       "Motorcycle 125cc and under            Rural                  1194  \n",
       "                                      Unallocated               0  \n",
       "                                      Urban                  2499  \n",
       "Motorcycle 50cc and under             Rural                   655  \n",
       "                                      Unallocated               0  \n",
       "                                      Urban                  1176  \n",
       "Motorcycle over 125cc and up to 500cc Rural                   711  \n",
       "                                      Unallocated               0  \n",
       "                                      Urban                  1356  \n",
       "Motorcycle over 500cc                 Rural                  2260  \n",
       "                                      Unallocated               0  \n",
       "                                      Urban                  4267  \n",
       "Other vehicle                         Rural                   509  \n",
       "                                      Unallocated               0  \n",
       "                                      Urban                   870  \n",
       "Pedal cycle                           Rural                    20  \n",
       "                                      Unallocated               0  \n",
       "                                      Urban                    36  \n",
       "Ridden horse                          Rural                     1  \n",
       "                                      Unallocated               0  \n",
       "                                      Urban                     0  \n",
       "Taxi/Private hire car                 Rural                  1227  \n",
       "                                      Unallocated               0  \n",
       "                                      Urban                  2414  \n",
       "Van / Goods 3.5 tonnes mgw or under   Rural                  2785  \n",
       "                                      Unallocated               0  \n",
       "                                      Urban                  5163  "
      ]
     },
     "execution_count": 55,
     "metadata": {},
     "output_type": "execute_result"
    }
   ],
   "source": [
    "df_2019.groupby(['Vehicle_Type', 'Urban_or_Rural_Area'])['Accident_Severity'].value_counts().unstack()"
   ]
  },
  {
   "cell_type": "markdown",
   "id": "a5b76429-5190-4543-8cd5-b17cc6d09389",
   "metadata": {},
   "source": [
    "<h1>Insight No.: Urban areas see more slight accidents due to higher traffic density and frequent minor collisions. In contrast, rural areas report more serious or fatal accidents, especially with vehicles like motorcycles and buses, likely due to higher speeds and more hazardous roads.</h1>"
   ]
  },
  {
   "cell_type": "markdown",
   "id": "d613f13e-36a8-4cba-a9fb-a60c04da8fbe",
   "metadata": {},
   "source": [
    "<h1>Question No.: How does the accident severity for different vehicle types differ between rural and urban areas in 2022?</h1>"
   ]
  },
  {
   "cell_type": "code",
   "execution_count": 56,
   "id": "f2e48868-2bd8-4dc4-8664-ace6ecb74d62",
   "metadata": {},
   "outputs": [],
   "source": [
    "df_2022 = accident[accident['Year'] == 2022]"
   ]
  },
  {
   "cell_type": "code",
   "execution_count": 57,
   "id": "c8cc1be4-6e3e-468c-b77e-91520320836b",
   "metadata": {},
   "outputs": [
    {
     "data": {
      "text/html": [
       "<div>\n",
       "<style scoped>\n",
       "    .dataframe tbody tr th:only-of-type {\n",
       "        vertical-align: middle;\n",
       "    }\n",
       "\n",
       "    .dataframe tbody tr th {\n",
       "        vertical-align: top;\n",
       "    }\n",
       "\n",
       "    .dataframe thead th {\n",
       "        text-align: right;\n",
       "    }\n",
       "</style>\n",
       "<table border=\"1\" class=\"dataframe\">\n",
       "  <thead>\n",
       "    <tr style=\"text-align: right;\">\n",
       "      <th></th>\n",
       "      <th>Accident_Severity</th>\n",
       "      <th>Fatal</th>\n",
       "      <th>Serious</th>\n",
       "      <th>Slight</th>\n",
       "    </tr>\n",
       "    <tr>\n",
       "      <th>Vehicle_Type</th>\n",
       "      <th>Urban_or_Rural_Area</th>\n",
       "      <th></th>\n",
       "      <th></th>\n",
       "      <th></th>\n",
       "    </tr>\n",
       "  </thead>\n",
       "  <tbody>\n",
       "    <tr>\n",
       "      <th rowspan=\"3\" valign=\"top\">Agricultural vehicle</th>\n",
       "      <th>Rural</th>\n",
       "      <td>1</td>\n",
       "      <td>28</td>\n",
       "      <td>98</td>\n",
       "    </tr>\n",
       "    <tr>\n",
       "      <th>Unallocated</th>\n",
       "      <td>0</td>\n",
       "      <td>0</td>\n",
       "      <td>0</td>\n",
       "    </tr>\n",
       "    <tr>\n",
       "      <th>Urban</th>\n",
       "      <td>1</td>\n",
       "      <td>16</td>\n",
       "      <td>155</td>\n",
       "    </tr>\n",
       "    <tr>\n",
       "      <th rowspan=\"3\" valign=\"top\">Bus or coach (17 or more pass seats)</th>\n",
       "      <th>Rural</th>\n",
       "      <td>22</td>\n",
       "      <td>179</td>\n",
       "      <td>1046</td>\n",
       "    </tr>\n",
       "    <tr>\n",
       "      <th>Unallocated</th>\n",
       "      <td>0</td>\n",
       "      <td>0</td>\n",
       "      <td>0</td>\n",
       "    </tr>\n",
       "    <tr>\n",
       "      <th>Urban</th>\n",
       "      <td>10</td>\n",
       "      <td>409</td>\n",
       "      <td>2865</td>\n",
       "    </tr>\n",
       "    <tr>\n",
       "      <th rowspan=\"3\" valign=\"top\">Car</th>\n",
       "      <th>Rural</th>\n",
       "      <td>827</td>\n",
       "      <td>6093</td>\n",
       "      <td>32787</td>\n",
       "    </tr>\n",
       "    <tr>\n",
       "      <th>Unallocated</th>\n",
       "      <td>0</td>\n",
       "      <td>0</td>\n",
       "      <td>0</td>\n",
       "    </tr>\n",
       "    <tr>\n",
       "      <th>Urban</th>\n",
       "      <td>414</td>\n",
       "      <td>8372</td>\n",
       "      <td>63275</td>\n",
       "    </tr>\n",
       "    <tr>\n",
       "      <th rowspan=\"3\" valign=\"top\">Data missing or out of range</th>\n",
       "      <th>Rural</th>\n",
       "      <td>0</td>\n",
       "      <td>0</td>\n",
       "      <td>0</td>\n",
       "    </tr>\n",
       "    <tr>\n",
       "      <th>Unallocated</th>\n",
       "      <td>0</td>\n",
       "      <td>0</td>\n",
       "      <td>0</td>\n",
       "    </tr>\n",
       "    <tr>\n",
       "      <th>Urban</th>\n",
       "      <td>0</td>\n",
       "      <td>0</td>\n",
       "      <td>0</td>\n",
       "    </tr>\n",
       "    <tr>\n",
       "      <th rowspan=\"3\" valign=\"top\">Goods 7.5 tonnes mgw and over</th>\n",
       "      <th>Rural</th>\n",
       "      <td>14</td>\n",
       "      <td>163</td>\n",
       "      <td>982</td>\n",
       "    </tr>\n",
       "    <tr>\n",
       "      <th>Unallocated</th>\n",
       "      <td>0</td>\n",
       "      <td>0</td>\n",
       "      <td>0</td>\n",
       "    </tr>\n",
       "    <tr>\n",
       "      <th>Urban</th>\n",
       "      <td>6</td>\n",
       "      <td>222</td>\n",
       "      <td>1576</td>\n",
       "    </tr>\n",
       "    <tr>\n",
       "      <th rowspan=\"3\" valign=\"top\">Goods over 3.5t. and under 7.5t</th>\n",
       "      <th>Rural</th>\n",
       "      <td>9</td>\n",
       "      <td>61</td>\n",
       "      <td>321</td>\n",
       "    </tr>\n",
       "    <tr>\n",
       "      <th>Unallocated</th>\n",
       "      <td>0</td>\n",
       "      <td>0</td>\n",
       "      <td>0</td>\n",
       "    </tr>\n",
       "    <tr>\n",
       "      <th>Urban</th>\n",
       "      <td>4</td>\n",
       "      <td>89</td>\n",
       "      <td>623</td>\n",
       "    </tr>\n",
       "    <tr>\n",
       "      <th rowspan=\"3\" valign=\"top\">Minibus (8 - 16 passenger seats)</th>\n",
       "      <th>Rural</th>\n",
       "      <td>1</td>\n",
       "      <td>21</td>\n",
       "      <td>117</td>\n",
       "    </tr>\n",
       "    <tr>\n",
       "      <th>Unallocated</th>\n",
       "      <td>0</td>\n",
       "      <td>0</td>\n",
       "      <td>0</td>\n",
       "    </tr>\n",
       "    <tr>\n",
       "      <th>Urban</th>\n",
       "      <td>1</td>\n",
       "      <td>33</td>\n",
       "      <td>228</td>\n",
       "    </tr>\n",
       "    <tr>\n",
       "      <th rowspan=\"3\" valign=\"top\">Motorcycle 125cc and under</th>\n",
       "      <th>Rural</th>\n",
       "      <td>9</td>\n",
       "      <td>157</td>\n",
       "      <td>762</td>\n",
       "    </tr>\n",
       "    <tr>\n",
       "      <th>Unallocated</th>\n",
       "      <td>0</td>\n",
       "      <td>0</td>\n",
       "      <td>0</td>\n",
       "    </tr>\n",
       "    <tr>\n",
       "      <th>Urban</th>\n",
       "      <td>19</td>\n",
       "      <td>318</td>\n",
       "      <td>2314</td>\n",
       "    </tr>\n",
       "    <tr>\n",
       "      <th rowspan=\"3\" valign=\"top\">Motorcycle 50cc and under</th>\n",
       "      <th>Rural</th>\n",
       "      <td>8</td>\n",
       "      <td>87</td>\n",
       "      <td>496</td>\n",
       "    </tr>\n",
       "    <tr>\n",
       "      <th>Unallocated</th>\n",
       "      <td>0</td>\n",
       "      <td>0</td>\n",
       "      <td>0</td>\n",
       "    </tr>\n",
       "    <tr>\n",
       "      <th>Urban</th>\n",
       "      <td>7</td>\n",
       "      <td>147</td>\n",
       "      <td>990</td>\n",
       "    </tr>\n",
       "    <tr>\n",
       "      <th rowspan=\"3\" valign=\"top\">Motorcycle over 125cc and up to 500cc</th>\n",
       "      <th>Rural</th>\n",
       "      <td>6</td>\n",
       "      <td>68</td>\n",
       "      <td>415</td>\n",
       "    </tr>\n",
       "    <tr>\n",
       "      <th>Unallocated</th>\n",
       "      <td>0</td>\n",
       "      <td>0</td>\n",
       "      <td>0</td>\n",
       "    </tr>\n",
       "    <tr>\n",
       "      <th>Urban</th>\n",
       "      <td>4</td>\n",
       "      <td>110</td>\n",
       "      <td>767</td>\n",
       "    </tr>\n",
       "    <tr>\n",
       "      <th rowspan=\"3\" valign=\"top\">Motorcycle over 500cc</th>\n",
       "      <th>Rural</th>\n",
       "      <td>34</td>\n",
       "      <td>258</td>\n",
       "      <td>1513</td>\n",
       "    </tr>\n",
       "    <tr>\n",
       "      <th>Unallocated</th>\n",
       "      <td>0</td>\n",
       "      <td>0</td>\n",
       "      <td>0</td>\n",
       "    </tr>\n",
       "    <tr>\n",
       "      <th>Urban</th>\n",
       "      <td>22</td>\n",
       "      <td>417</td>\n",
       "      <td>2872</td>\n",
       "    </tr>\n",
       "    <tr>\n",
       "      <th rowspan=\"3\" valign=\"top\">Other vehicle</th>\n",
       "      <th>Rural</th>\n",
       "      <td>6</td>\n",
       "      <td>68</td>\n",
       "      <td>315</td>\n",
       "    </tr>\n",
       "    <tr>\n",
       "      <th>Unallocated</th>\n",
       "      <td>0</td>\n",
       "      <td>0</td>\n",
       "      <td>0</td>\n",
       "    </tr>\n",
       "    <tr>\n",
       "      <th>Urban</th>\n",
       "      <td>12</td>\n",
       "      <td>99</td>\n",
       "      <td>596</td>\n",
       "    </tr>\n",
       "    <tr>\n",
       "      <th rowspan=\"3\" valign=\"top\">Pedal cycle</th>\n",
       "      <th>Rural</th>\n",
       "      <td>0</td>\n",
       "      <td>2</td>\n",
       "      <td>6</td>\n",
       "    </tr>\n",
       "    <tr>\n",
       "      <th>Unallocated</th>\n",
       "      <td>0</td>\n",
       "      <td>0</td>\n",
       "      <td>0</td>\n",
       "    </tr>\n",
       "    <tr>\n",
       "      <th>Urban</th>\n",
       "      <td>0</td>\n",
       "      <td>4</td>\n",
       "      <td>14</td>\n",
       "    </tr>\n",
       "    <tr>\n",
       "      <th rowspan=\"3\" valign=\"top\">Ridden horse</th>\n",
       "      <th>Rural</th>\n",
       "      <td>0</td>\n",
       "      <td>0</td>\n",
       "      <td>0</td>\n",
       "    </tr>\n",
       "    <tr>\n",
       "      <th>Unallocated</th>\n",
       "      <td>0</td>\n",
       "      <td>0</td>\n",
       "      <td>0</td>\n",
       "    </tr>\n",
       "    <tr>\n",
       "      <th>Urban</th>\n",
       "      <td>0</td>\n",
       "      <td>0</td>\n",
       "      <td>1</td>\n",
       "    </tr>\n",
       "    <tr>\n",
       "      <th rowspan=\"3\" valign=\"top\">Taxi/Private hire car</th>\n",
       "      <th>Rural</th>\n",
       "      <td>12</td>\n",
       "      <td>121</td>\n",
       "      <td>727</td>\n",
       "    </tr>\n",
       "    <tr>\n",
       "      <th>Unallocated</th>\n",
       "      <td>0</td>\n",
       "      <td>0</td>\n",
       "      <td>0</td>\n",
       "    </tr>\n",
       "    <tr>\n",
       "      <th>Urban</th>\n",
       "      <td>12</td>\n",
       "      <td>239</td>\n",
       "      <td>1727</td>\n",
       "    </tr>\n",
       "    <tr>\n",
       "      <th rowspan=\"3\" valign=\"top\">Van / Goods 3.5 tonnes mgw or under</th>\n",
       "      <th>Rural</th>\n",
       "      <td>61</td>\n",
       "      <td>401</td>\n",
       "      <td>2123</td>\n",
       "    </tr>\n",
       "    <tr>\n",
       "      <th>Unallocated</th>\n",
       "      <td>0</td>\n",
       "      <td>0</td>\n",
       "      <td>0</td>\n",
       "    </tr>\n",
       "    <tr>\n",
       "      <th>Urban</th>\n",
       "      <td>27</td>\n",
       "      <td>595</td>\n",
       "      <td>4382</td>\n",
       "    </tr>\n",
       "  </tbody>\n",
       "</table>\n",
       "</div>"
      ],
      "text/plain": [
       "Accident_Severity                                          Fatal  Serious  \\\n",
       "Vehicle_Type                          Urban_or_Rural_Area                   \n",
       "Agricultural vehicle                  Rural                    1       28   \n",
       "                                      Unallocated              0        0   \n",
       "                                      Urban                    1       16   \n",
       "Bus or coach (17 or more pass seats)  Rural                   22      179   \n",
       "                                      Unallocated              0        0   \n",
       "                                      Urban                   10      409   \n",
       "Car                                   Rural                  827     6093   \n",
       "                                      Unallocated              0        0   \n",
       "                                      Urban                  414     8372   \n",
       "Data missing or out of range          Rural                    0        0   \n",
       "                                      Unallocated              0        0   \n",
       "                                      Urban                    0        0   \n",
       "Goods 7.5 tonnes mgw and over         Rural                   14      163   \n",
       "                                      Unallocated              0        0   \n",
       "                                      Urban                    6      222   \n",
       "Goods over 3.5t. and under 7.5t       Rural                    9       61   \n",
       "                                      Unallocated              0        0   \n",
       "                                      Urban                    4       89   \n",
       "Minibus (8 - 16 passenger seats)      Rural                    1       21   \n",
       "                                      Unallocated              0        0   \n",
       "                                      Urban                    1       33   \n",
       "Motorcycle 125cc and under            Rural                    9      157   \n",
       "                                      Unallocated              0        0   \n",
       "                                      Urban                   19      318   \n",
       "Motorcycle 50cc and under             Rural                    8       87   \n",
       "                                      Unallocated              0        0   \n",
       "                                      Urban                    7      147   \n",
       "Motorcycle over 125cc and up to 500cc Rural                    6       68   \n",
       "                                      Unallocated              0        0   \n",
       "                                      Urban                    4      110   \n",
       "Motorcycle over 500cc                 Rural                   34      258   \n",
       "                                      Unallocated              0        0   \n",
       "                                      Urban                   22      417   \n",
       "Other vehicle                         Rural                    6       68   \n",
       "                                      Unallocated              0        0   \n",
       "                                      Urban                   12       99   \n",
       "Pedal cycle                           Rural                    0        2   \n",
       "                                      Unallocated              0        0   \n",
       "                                      Urban                    0        4   \n",
       "Ridden horse                          Rural                    0        0   \n",
       "                                      Unallocated              0        0   \n",
       "                                      Urban                    0        0   \n",
       "Taxi/Private hire car                 Rural                   12      121   \n",
       "                                      Unallocated              0        0   \n",
       "                                      Urban                   12      239   \n",
       "Van / Goods 3.5 tonnes mgw or under   Rural                   61      401   \n",
       "                                      Unallocated              0        0   \n",
       "                                      Urban                   27      595   \n",
       "\n",
       "Accident_Severity                                          Slight  \n",
       "Vehicle_Type                          Urban_or_Rural_Area          \n",
       "Agricultural vehicle                  Rural                    98  \n",
       "                                      Unallocated               0  \n",
       "                                      Urban                   155  \n",
       "Bus or coach (17 or more pass seats)  Rural                  1046  \n",
       "                                      Unallocated               0  \n",
       "                                      Urban                  2865  \n",
       "Car                                   Rural                 32787  \n",
       "                                      Unallocated               0  \n",
       "                                      Urban                 63275  \n",
       "Data missing or out of range          Rural                     0  \n",
       "                                      Unallocated               0  \n",
       "                                      Urban                     0  \n",
       "Goods 7.5 tonnes mgw and over         Rural                   982  \n",
       "                                      Unallocated               0  \n",
       "                                      Urban                  1576  \n",
       "Goods over 3.5t. and under 7.5t       Rural                   321  \n",
       "                                      Unallocated               0  \n",
       "                                      Urban                   623  \n",
       "Minibus (8 - 16 passenger seats)      Rural                   117  \n",
       "                                      Unallocated               0  \n",
       "                                      Urban                   228  \n",
       "Motorcycle 125cc and under            Rural                   762  \n",
       "                                      Unallocated               0  \n",
       "                                      Urban                  2314  \n",
       "Motorcycle 50cc and under             Rural                   496  \n",
       "                                      Unallocated               0  \n",
       "                                      Urban                   990  \n",
       "Motorcycle over 125cc and up to 500cc Rural                   415  \n",
       "                                      Unallocated               0  \n",
       "                                      Urban                   767  \n",
       "Motorcycle over 500cc                 Rural                  1513  \n",
       "                                      Unallocated               0  \n",
       "                                      Urban                  2872  \n",
       "Other vehicle                         Rural                   315  \n",
       "                                      Unallocated               0  \n",
       "                                      Urban                   596  \n",
       "Pedal cycle                           Rural                     6  \n",
       "                                      Unallocated               0  \n",
       "                                      Urban                    14  \n",
       "Ridden horse                          Rural                     0  \n",
       "                                      Unallocated               0  \n",
       "                                      Urban                     1  \n",
       "Taxi/Private hire car                 Rural                   727  \n",
       "                                      Unallocated               0  \n",
       "                                      Urban                  1727  \n",
       "Van / Goods 3.5 tonnes mgw or under   Rural                  2123  \n",
       "                                      Unallocated               0  \n",
       "                                      Urban                  4382  "
      ]
     },
     "execution_count": 57,
     "metadata": {},
     "output_type": "execute_result"
    }
   ],
   "source": [
    "df_2022.groupby(['Vehicle_Type', 'Urban_or_Rural_Area'])['Accident_Severity'].value_counts().unstack()"
   ]
  },
  {
   "cell_type": "markdown",
   "id": "48d35fe1-7a9c-49e2-a0a4-0a1bb8c1f803",
   "metadata": {},
   "source": [
    "<h1>Insight No.: Urban areas report more slight accidents likely due to higher traffic density, while rural areas have more serious and fatal accidents, especially for motorcycles and cars, possibly due to higher speeds and hazardous roads.</h1>"
   ]
  },
  {
   "cell_type": "code",
   "execution_count": null,
   "id": "00114fe9-273f-40e4-bd00-898ecc74f11c",
   "metadata": {},
   "outputs": [],
   "source": []
  }
 ],
 "metadata": {
  "kernelspec": {
   "display_name": "Python 3 (ipykernel)",
   "language": "python",
   "name": "python3"
  },
  "language_info": {
   "codemirror_mode": {
    "name": "ipython",
    "version": 3
   },
   "file_extension": ".py",
   "mimetype": "text/x-python",
   "name": "python",
   "nbconvert_exporter": "python",
   "pygments_lexer": "ipython3",
   "version": "3.10.11"
  }
 },
 "nbformat": 4,
 "nbformat_minor": 5
}
